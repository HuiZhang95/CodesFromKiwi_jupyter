{
 "cells": [
  {
   "cell_type": "code",
   "execution_count": null,
   "id": "04a427f5-bfec-4590-9ef2-a2f55bc8435d",
   "metadata": {},
   "outputs": [],
   "source": [
    "# examples from https://towardsdatascience.com/understanding-lstm-and-its-quick-implementation-in-keras-for-sentiment-analysis-af410fd85b47\n",
    "\n",
    "# https://github.com/nsinha280/lstm-on-Yelp-review-data/blob/master/lstm-final.ipynb"
   ]
  },
  {
   "cell_type": "code",
   "execution_count": null,
   "id": "60c1b5e3-0dea-48fe-96d1-5f54ecb1a0bc",
   "metadata": {},
   "outputs": [],
   "source": []
  },
  {
   "cell_type": "code",
   "execution_count": null,
   "id": "6ff734f4-0b7b-4fb0-ad11-e72b1e018d78",
   "metadata": {
    "tags": []
   },
   "outputs": [],
   "source": [
    "# install tenserflow and test the package\n",
    "#!pip install tensorflow\n",
    "\n",
    "#import tensorflow as tf\n",
    "\n",
    "#a = tf.constant(2)\n",
    "#b = tf.constant(3)\n",
    "\n",
    "#c = tf.add(a, b)\n",
    "\n",
    "#with tf.Session() as sess:\n",
    "#    result = sess.run(c)\n",
    "#    print(result)"
   ]
  },
  {
   "cell_type": "code",
   "execution_count": null,
   "id": "f8fbdfba-ea98-4d45-b7c8-ac704e4a939e",
   "metadata": {
    "tags": []
   },
   "outputs": [],
   "source": [
    "!pip install np_utils"
   ]
  },
  {
   "cell_type": "code",
   "execution_count": null,
   "id": "d8eaffe2-15bf-43b8-8e9d-e7e006defc23",
   "metadata": {
    "tags": []
   },
   "outputs": [],
   "source": [
    "conda install keras"
   ]
  },
  {
   "cell_type": "code",
   "execution_count": null,
   "id": "912687df-6535-4e4c-a569-692fc090145c",
   "metadata": {
    "tags": []
   },
   "outputs": [],
   "source": [
    "import numpy as np \n",
    "import pandas as pd \n",
    "#from tensorflow import keras\n",
    "import keras\n",
    "from sklearn.feature_extraction.text import CountVectorizer\n",
    "from keras.preprocessing.text import Tokenizer\n",
    "from keras.preprocessing.sequence import pad_sequences\n",
    "from keras.models import Sequential\n",
    "from keras.layers import Dense, Embedding, LSTM\n",
    "from sklearn.model_selection import train_test_split\n",
    "from keras.utils.np_utils import to_categorical\n",
    "import re"
   ]
  },
  {
   "cell_type": "code",
   "execution_count": null,
   "id": "ec5a001f-0f83-4cd5-b1f7-3a23dcc07938",
   "metadata": {},
   "outputs": [],
   "source": [
    "import json\n",
    "import pandas as pd\n",
    "\n",
    "def convert(x):\n",
    "    ob = json.loads(x)\n",
    "    for k, v in ob.items():\n",
    "        if isinstance(v, list):\n",
    "            ob[k] = ','.join(v)\n",
    "        elif isinstance(v, dict):\n",
    "            for kk, vv in v.items():\n",
    "                ob['%s_%s' % (k, kk)] = vv\n",
    "            del ob[k]\n",
    "    return ob\n",
    "json_filename = './tmpData/yelp_dataset/yelp_academic_dataset_review.json'\n",
    "#json_filename='/Users/nimesh/Downloads/dataset/review.json'\n",
    "with open(json_filename,'rb') as f:\n",
    "    data = f.readlines()\n",
    "\n",
    "df = pd.DataFrame([convert(line) for line in data])"
   ]
  },
  {
   "cell_type": "code",
   "execution_count": null,
   "id": "6d32ca74-1c14-4b04-b58e-29190a6c1945",
   "metadata": {},
   "outputs": [],
   "source": [
    "del(data)"
   ]
  },
  {
   "cell_type": "code",
   "execution_count": null,
   "id": "fa4be8c3-6c46-4bab-b30c-f3e5342af60e",
   "metadata": {},
   "outputs": [],
   "source": [
    "#data = df[['text', 'stars']]"
   ]
  },
  {
   "cell_type": "code",
   "execution_count": null,
   "id": "646d9d29-818f-4d3a-b2bf-9548817581f6",
   "metadata": {
    "tags": []
   },
   "outputs": [],
   "source": [
    "del(data)\n",
    "trialNoAll = 10000\n",
    "data = df.loc[:trialNoAll][['text', 'stars']]"
   ]
  },
  {
   "cell_type": "code",
   "execution_count": null,
   "id": "73b6e485-ced5-4df1-bba4-e18a69c52369",
   "metadata": {
    "tags": []
   },
   "outputs": [],
   "source": [
    "print(data)"
   ]
  },
  {
   "cell_type": "code",
   "execution_count": null,
   "id": "cec41c28-84ab-4893-890d-69a52afa03fe",
   "metadata": {
    "tags": []
   },
   "outputs": [],
   "source": [
    "#print(data['stars'])\n",
    "print(data['stars'][0])\n",
    "print(len(data))"
   ]
  },
  {
   "cell_type": "code",
   "execution_count": null,
   "id": "f3b5137d-5a2b-448e-aeae-bab1653cda30",
   "metadata": {
    "tags": []
   },
   "outputs": [],
   "source": [
    "#tmp_sentiment = []\n",
    "#for i in range(len(data['stars'])):\n",
    "#    if data['stars'][i] > 3:\n",
    "#        tmp_sentiment.append('pos')\n",
    "#    else:\n",
    "#        tmp_sentiment.append('neg')\n",
    "#data = data.assign(sentiment=tmp_sentiment)"
   ]
  },
  {
   "cell_type": "code",
   "execution_count": null,
   "id": "d9198cfe-2457-4f76-baeb-6f461345e4fe",
   "metadata": {},
   "outputs": [],
   "source": [
    "data['sentiment']=['pos' if (x>3) else 'neg' for x in data['stars']]"
   ]
  },
  {
   "cell_type": "code",
   "execution_count": null,
   "id": "157f937f-3fcb-4a69-af08-88085574aab3",
   "metadata": {},
   "outputs": [],
   "source": [
    "data['text']= [x.lower() for x in data['text']]\n",
    "data['text'] = data['text'].apply((lambda x: re.sub('[^a-zA-z0-9\\s]','',x)))"
   ]
  },
  {
   "cell_type": "code",
   "execution_count": null,
   "id": "17b1cdf1-d11c-4001-a3f6-4319c6529382",
   "metadata": {},
   "outputs": [],
   "source": [
    "for idx,row in data.iterrows():\n",
    "    row[0] = row[0].replace('rt',' ')"
   ]
  },
  {
   "cell_type": "code",
   "execution_count": null,
   "id": "9c2b9958-e965-4389-baa5-eb98a0845d24",
   "metadata": {
    "tags": []
   },
   "outputs": [],
   "source": [
    "for idx,row in data.iterrows():\n",
    "    row[0] = row[0].replace('rt',' ')"
   ]
  },
  {
   "cell_type": "code",
   "execution_count": null,
   "id": "081e2f4d-3856-4474-907c-978add2385f1",
   "metadata": {},
   "outputs": [],
   "source": [
    "pd.set_option('display.max_colwidth',4)\n",
    "data[:5]"
   ]
  },
  {
   "cell_type": "code",
   "execution_count": null,
   "id": "23687631-17d0-4c95-bcbc-640e684c7da5",
   "metadata": {},
   "outputs": [],
   "source": [
    "data.dtypes"
   ]
  },
  {
   "cell_type": "code",
   "execution_count": null,
   "id": "77e4a8eb-5689-45ed-b405-ad09b218cf24",
   "metadata": {},
   "outputs": [],
   "source": [
    "#data['text']= [x.encode('ascii') for x in data['text']]"
   ]
  },
  {
   "cell_type": "code",
   "execution_count": null,
   "id": "43507b17-feae-44a8-b68f-525c5b47550e",
   "metadata": {
    "tags": []
   },
   "outputs": [],
   "source": [
    "for i in range(len(data['text'])):\n",
    "    tmp = data['text'][i]\n",
    "    tmp1 = tmp.encode('ascii')\n",
    "    data['text'][i] = tmp1\n",
    "    #print(tmp)\n",
    "    #print(tmp1)"
   ]
  },
  {
   "cell_type": "code",
   "execution_count": null,
   "id": "fc2be426-e16c-415d-9550-81a74a7e2386",
   "metadata": {},
   "outputs": [],
   "source": [
    "#Vectorizing the text\n",
    "tokenizer = Tokenizer(nb_words=2000, filters='!\"#$%&()*+,-./:;<=>?@[\\\\]^_`{|}~\\t\\n',\n",
    "                                   lower=True,split=' ')"
   ]
  },
  {
   "cell_type": "code",
   "execution_count": null,
   "id": "729447ec-8cf3-4fdb-8518-21d6e80d903d",
   "metadata": {
    "tags": []
   },
   "outputs": [],
   "source": [
    "tokenizer.fit_on_texts([x.decode('utf-8') for x in data['text'].values if not isinstance(x, str) ])"
   ]
  },
  {
   "cell_type": "code",
   "execution_count": null,
   "id": "321ab72a-3ac7-43bc-b505-f8ffb9493219",
   "metadata": {},
   "outputs": [],
   "source": [
    "##Vectorizing the text\n",
    "#tokenizer = Tokenizer(nb_words=2000, filters='!\"#$%&()*+,-./:;<=>?@[\\\\]^_`{|}~\\t\\n',\n",
    "#                                   lower=True,split=' ')\n",
    "#tokenizer.fit_on_texts(data['text'].values)"
   ]
  },
  {
   "cell_type": "code",
   "execution_count": null,
   "id": "cda931a6-1eab-4caa-866f-15e5e9cd0bc8",
   "metadata": {
    "tags": []
   },
   "outputs": [],
   "source": [
    "print(type(data['text'].values))"
   ]
  },
  {
   "cell_type": "code",
   "execution_count": null,
   "id": "51349a10-6232-4353-8e1c-5f174ea71c4c",
   "metadata": {},
   "outputs": [],
   "source": [
    "#print(tokenizer.word_index)\n",
    "tokenizer"
   ]
  },
  {
   "cell_type": "code",
   "execution_count": null,
   "id": "e6f093cc-7f5a-4bc0-94c4-3db1b7bb1fbc",
   "metadata": {
    "tags": []
   },
   "outputs": [],
   "source": [
    "print(type(data['text']))\n",
    "print(data['text'].index)\n",
    "print(data['text'][0])\n",
    "print(data['text'].values)"
   ]
  },
  {
   "cell_type": "code",
   "execution_count": null,
   "id": "062d17aa-4d43-4b2e-b35e-15d25e7e005d",
   "metadata": {},
   "outputs": [],
   "source": [
    "\n",
    "X = tokenizer.texts_to_sequences(data['text'].values.astype(str))\n",
    "#X = tokenizer.texts_to_sequences(data['text'].values)\n",
    "X = pad_sequences(X)"
   ]
  },
  {
   "cell_type": "code",
   "execution_count": null,
   "id": "fc865007-664c-45af-bf5c-7a3f51428e8a",
   "metadata": {},
   "outputs": [],
   "source": [
    "len(data)"
   ]
  },
  {
   "cell_type": "code",
   "execution_count": null,
   "id": "e3134dbb-99e1-4831-933c-45c3684f4183",
   "metadata": {
    "tags": []
   },
   "outputs": [],
   "source": [
    "#print(data['text'].values)"
   ]
  },
  {
   "cell_type": "code",
   "execution_count": 177,
   "id": "6154f354-a53e-4434-be2e-c532cd7d5a25",
   "metadata": {
    "tags": []
   },
   "outputs": [
    {
     "name": "stdout",
     "output_type": "stream",
     "text": [
      "Collecting git+git://github.com/fchollet/keras.git\n",
      "  Cloning git://github.com/fchollet/keras.git to c:\\users\\zhanghqy\\appdata\\local\\temp\\pip-req-build-0tj426ug\n",
      "Note: you may need to restart the kernel to use updated packages.\n"
     ]
    },
    {
     "name": "stderr",
     "output_type": "stream",
     "text": [
      "  ERROR: Error [WinError 2] The system cannot find the file specified while executing command git version\n",
      "ERROR: Cannot find command 'git' - do you have 'git' installed and in your PATH?\n"
     ]
    }
   ],
   "source": []
  },
  {
   "cell_type": "code",
   "execution_count": 180,
   "id": "161d64a4-5627-4d06-8d06-6b6f341407aa",
   "metadata": {},
   "outputs": [
    {
     "name": "stdout",
     "output_type": "stream",
     "text": [
      "Model: \"sequential_17\"\n",
      "_________________________________________________________________\n",
      " Layer (type)                Output Shape              Param #   \n",
      "=================================================================\n",
      " embedding_16 (Embedding)    (None, 924, 128)          256000    \n",
      "                                                                 \n",
      " dropout_6 (Dropout)         (None, 924, 128)          0         \n",
      "                                                                 \n",
      " lstm_7 (LSTM)               (None, 196)               254800    \n",
      "                                                                 \n",
      " dense_1 (Dense)             (None, 2)                 394       \n",
      "                                                                 \n",
      "=================================================================\n",
      "Total params: 511194 (1.95 MB)\n",
      "Trainable params: 511194 (1.95 MB)\n",
      "Non-trainable params: 0 (0.00 Byte)\n",
      "_________________________________________________________________\n",
      "None\n"
     ]
    }
   ],
   "source": [
    "from keras.layers import Dropout\n",
    "embed_dim = 128\n",
    "lstm_out = 196\n",
    "batch_size = 32\n",
    "\n",
    "model = Sequential()\n",
    "#model.add(Embedding(2000, embed_dim,input_length = X.shape[1], dropout = 0.2))\n",
    "model.add(Embedding(2000, embed_dim,input_length = X.shape[1]))\n",
    "model.add(Dropout(0.2))\n",
    "#model.add(LSTM(lstm_out, dropout_U = 0.2, dropout_W = 0.2))\n",
    "model.add(LSTM(lstm_out))\n",
    "#model.add(recurrent_dropout(0.2))\n",
    "model.add(Dense(2,activation='softmax'))\n",
    "model.compile(loss = 'categorical_crossentropy', optimizer='adam',metrics = ['accuracy'])\n",
    "print(model.summary())"
   ]
  },
  {
   "cell_type": "code",
   "execution_count": 185,
   "id": "616cb509-97ef-460b-90de-09ed8a2331d4",
   "metadata": {},
   "outputs": [
    {
     "name": "stdout",
     "output_type": "stream",
     "text": [
      "(8000, 924) (8000, 2)\n",
      "(2001, 924) (2001, 2)\n"
     ]
    }
   ],
   "source": [
    "Y = pd.get_dummies(data['sentiment']).values\n",
    "X_train, X_test, Y_train, Y_test = train_test_split(X,Y, test_size = 0.2, random_state = 42)\n",
    "print(X_train.shape,Y_train.shape)\n",
    "print(X_test.shape,Y_test.shape)"
   ]
  },
  {
   "cell_type": "code",
   "execution_count": 186,
   "id": "5baec916-1a3c-42e1-9f4a-4d14045b5483",
   "metadata": {
    "tags": []
   },
   "outputs": [
    {
     "name": "stdout",
     "output_type": "stream",
     "text": [
      "[[   0    0    0 ...   26  430 1356]\n",
      " [   0    0    0 ...   25   90  280]\n",
      " [   0    0    0 ...   15   31  350]\n",
      " ...\n",
      " [   0    0    0 ...   21    3  392]\n",
      " [   0    0    0 ...    2  162   40]\n",
      " [   0    0    0 ...  569   10   38]]\n"
     ]
    }
   ],
   "source": [
    "print(X_train)"
   ]
  },
  {
   "cell_type": "code",
   "execution_count": 188,
   "id": "3e2517d3-eefa-4592-aeab-c08c9a3bf341",
   "metadata": {},
   "outputs": [
    {
     "name": "stdout",
     "output_type": "stream",
     "text": [
      "WARNING:tensorflow:From C:\\Users\\zhanghqy\\AppData\\Local\\anaconda3\\Lib\\site-packages\\keras\\src\\utils\\tf_utils.py:492: The name tf.ragged.RaggedTensorValue is deprecated. Please use tf.compat.v1.ragged.RaggedTensorValue instead.\n",
      "\n",
      "WARNING:tensorflow:From C:\\Users\\zhanghqy\\AppData\\Local\\anaconda3\\Lib\\site-packages\\keras\\src\\engine\\base_layer_utils.py:384: The name tf.executing_eagerly_outside_functions is deprecated. Please use tf.compat.v1.executing_eagerly_outside_functions instead.\n",
      "\n",
      "250/250 - 247s - loss: 0.4564 - accuracy: 0.7929 - 247s/epoch - 988ms/step\n"
     ]
    },
    {
     "data": {
      "text/plain": [
       "<keras.src.callbacks.History at 0x1de4ee64690>"
      ]
     },
     "execution_count": 188,
     "metadata": {},
     "output_type": "execute_result"
    }
   ],
   "source": [
    "#model.fit(X_train, Y_train, batch_size = batch_size, nb_epoch = 1, verbose = 2)\n",
    "model.fit(X_train, Y_train, batch_size = batch_size, epochs = 1, verbose = 2)\n"
   ]
  },
  {
   "cell_type": "code",
   "execution_count": 189,
   "id": "6ff5d432-7857-4c91-bc83-19525c5723b7",
   "metadata": {},
   "outputs": [
    {
     "data": {
      "text/plain": [
       "<keras.src.engine.sequential.Sequential at 0x1de56418690>"
      ]
     },
     "execution_count": 189,
     "metadata": {},
     "output_type": "execute_result"
    }
   ],
   "source": [
    "model"
   ]
  },
  {
   "cell_type": "code",
   "execution_count": 190,
   "id": "4b80997e-3463-437b-b758-3a74f24ac74e",
   "metadata": {},
   "outputs": [
    {
     "name": "stdout",
     "output_type": "stream",
     "text": [
      "63/63 - 14s - loss: 0.3172 - accuracy: 0.8666 - 14s/epoch - 227ms/step\n",
      "Score: 0.32\n",
      "Validation Accuracy: 0.87\n"
     ]
    }
   ],
   "source": [
    "score,acc = model.evaluate(X_test, Y_test, verbose = 2, batch_size = batch_size)\n",
    "print(\"Score: %.2f\" % (score))\n",
    "print(\"Validation Accuracy: %.2f\" % (acc))"
   ]
  },
  {
   "cell_type": "code",
   "execution_count": null,
   "id": "996a3605-6f03-4108-a62c-3b63fcb44bae",
   "metadata": {},
   "outputs": [],
   "source": []
  }
 ],
 "metadata": {
  "kernelspec": {
   "display_name": "Python 3 (ipykernel)",
   "language": "python",
   "name": "python3"
  },
  "language_info": {
   "codemirror_mode": {
    "name": "ipython",
    "version": 3
   },
   "file_extension": ".py",
   "mimetype": "text/x-python",
   "name": "python",
   "nbconvert_exporter": "python",
   "pygments_lexer": "ipython3",
   "version": "3.11.5"
  }
 },
 "nbformat": 4,
 "nbformat_minor": 5
}
