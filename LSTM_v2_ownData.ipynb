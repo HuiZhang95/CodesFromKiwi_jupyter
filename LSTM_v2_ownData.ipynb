{
 "cells": [
  {
   "cell_type": "code",
   "execution_count": 37,
   "id": "71ec0ee5-b4ff-4acd-9c6a-72be9fd8ec53",
   "metadata": {
    "tags": []
   },
   "outputs": [
    {
     "name": "stdout",
     "output_type": "stream",
     "text": [
      "3.11.5 | packaged by Anaconda, Inc. | (main, Sep 11 2023, 13:26:23) [MSC v.1916 64 bit (AMD64)]\n"
     ]
    }
   ],
   "source": [
    "# check python version\n",
    "import sys\n",
    "print(sys.version)"
   ]
  },
  {
   "cell_type": "code",
   "execution_count": 9,
   "id": "9f2afd18-617c-40d5-88b6-44e45861f918",
   "metadata": {
    "tags": []
   },
   "outputs": [
    {
     "name": "stdout",
     "output_type": "stream",
     "text": [
      "tf.Tensor(293.4349, shape=(), dtype=float32)\n"
     ]
    }
   ],
   "source": [
    "# to test if correctly installed tensorflow\n",
    "import tensorflow as tf\n",
    "print(tf.reduce_sum(tf.random.normal([1000, 1000])))"
   ]
  },
  {
   "cell_type": "code",
   "execution_count": 10,
   "id": "8c585435-aac2-440b-acaa-e9fc862f7fff",
   "metadata": {
    "tags": []
   },
   "outputs": [],
   "source": [
    "#conda install keras"
   ]
  },
  {
   "cell_type": "code",
   "execution_count": 11,
   "id": "46d662b2-37b4-4505-bec4-b150f36ee91c",
   "metadata": {
    "tags": []
   },
   "outputs": [],
   "source": [
    "import numpy as np \n",
    "import pandas as pd \n",
    "#from tensorflow import keras\n",
    "import keras\n",
    "from sklearn.feature_extraction.text import CountVectorizer\n",
    "from keras.preprocessing.text import Tokenizer\n",
    "from keras.preprocessing.sequence import pad_sequences\n",
    "from keras.models import Sequential\n",
    "from keras.layers import Dense, Embedding, LSTM\n",
    "from sklearn.model_selection import train_test_split\n",
    "from keras.utils.np_utils import to_categorical\n",
    "#from np_utils import to_categorical\n",
    "import re"
   ]
  },
  {
   "cell_type": "code",
   "execution_count": 21,
   "id": "89b057f3-136d-4d2b-a896-ed2eb96ce585",
   "metadata": {
    "tags": []
   },
   "outputs": [
    {
     "name": "stdout",
     "output_type": "stream",
     "text": [
      "1439\n",
      "RangeIndex(start=0, stop=1439, step=1)\n",
      "Index(['-0.641177123205187', '-0.870347381069106', '-0.292730969159417',\n",
      "       '-0.183297227557644', '-0.418725436420376', '-0.449430723873507',\n",
      "       '0.956021499890071', '0.947802050191783', '-0.164164421793905',\n",
      "       '-0.688891818533208',\n",
      "       ...\n",
      "       '-0.0088742394076997', '-0.00773404731753397', '-0.0065593974725564',\n",
      "       '-0.00537458416411922', '-0.00419775527310631', '-0.00305221869486746',\n",
      "       '-0.00195430940973534', '0.0186712158620674', '0.019213546522994',\n",
      "       '0.0197054525137061'],\n",
      "      dtype='object', length=300)\n",
      "(1439, 300)\n"
     ]
    }
   ],
   "source": [
    "# load in data\n",
    "loadDataInfo = './tmpData/Data/Electrodes/electrode_1.csv'\n",
    "Data = pd.read_csv(loadDataInfo)\n",
    "# summarize first few rows\n",
    "#print(series.head())\n",
    "print(len(Data))\n",
    "#refer to the row index:\n",
    "print(Data.index)\n",
    "print(Data.columns)\n",
    "print(Data.shape)"
   ]
  },
  {
   "cell_type": "code",
   "execution_count": 22,
   "id": "c5091da0-c80c-4b66-aac5-5182b6a13ce6",
   "metadata": {},
   "outputs": [
    {
     "name": "stdout",
     "output_type": "stream",
     "text": [
      "[1439, 300]\n"
     ]
    }
   ],
   "source": [
    "data_array = np.array(Data)\n",
    "\n",
    "n_samples = data_array.shape[0]\n",
    "n_features = data_array.shape[1]\n",
    "print([n_samples,n_features])"
   ]
  },
  {
   "cell_type": "code",
   "execution_count": 23,
   "id": "9cc8013f-2d0c-4124-a8a2-d6d15e98fb1e",
   "metadata": {
    "tags": []
   },
   "outputs": [],
   "source": [
    "bin_cur = 1\n",
    "bin_past = 3\n",
    "\n",
    "bins_predict = bin_cur + bin_past # 3 previous + 1 current\n",
    "\n",
    "formatted_data = np.zeros([n_samples,bins_predict,n_features])\n",
    "\n",
    "start_idx=0\n",
    "for i in range(n_samples-bin_past):\n",
    "    end_idx=start_idx+bins_predict # indices for 4 elements (sliding fashion)\n",
    "    formatted_data[i+bin_past,:,:]=data_array[start_idx:end_idx,:] # indexing the data with indices from the previous step\n",
    "    start_idx=start_idx+1"
   ]
  },
  {
   "cell_type": "code",
   "execution_count": 24,
   "id": "5cde0fec-60e1-40f0-bfb4-9d6dc806b7e0",
   "metadata": {
    "tags": []
   },
   "outputs": [],
   "source": [
    "formatted_data[np.isnan(formatted_data)] = 0 # replacing nans with zeros"
   ]
  },
  {
   "cell_type": "code",
   "execution_count": 25,
   "id": "4960b1ad-c909-42d7-a7f6-02026d5190af",
   "metadata": {
    "tags": []
   },
   "outputs": [],
   "source": [
    "# create a label set\n",
    "\n",
    "n_zones = 45\n",
    "n_trials = 32"
   ]
  },
  {
   "cell_type": "code",
   "execution_count": 33,
   "id": "a21df38c-807d-4bdf-814c-a65549bd2d1b",
   "metadata": {
    "tags": []
   },
   "outputs": [
    {
     "name": "stdout",
     "output_type": "stream",
     "text": [
      "[[1. 0. 0. ... 0. 0. 0.]\n",
      " [0. 1. 0. ... 0. 0. 0.]\n",
      " [0. 0. 1. ... 0. 0. 0.]\n",
      " ...\n",
      " [0. 0. 0. ... 1. 0. 0.]\n",
      " [0. 0. 0. ... 0. 1. 0.]\n",
      " [0. 0. 0. ... 0. 0. 1.]]\n",
      "(45, 45)\n",
      "<class 'numpy.ndarray'>\n"
     ]
    }
   ],
   "source": [
    "## one-hot-encoding \n",
    "cat_zones = keras.utils.to_categorical(np.r_[1:n_zones+1] ,num_classes=46) # one-hot-encoding \n",
    "cat_zones = np.delete(cat_zones,0,1)\n",
    "\n",
    "print(cat_zones)\n",
    "print(np.shape(cat_zones))\n",
    "print(type(cat_zones))"
   ]
  },
  {
   "cell_type": "code",
   "execution_count": 35,
   "id": "b1468a68-f76c-4bbc-81cf-34cea76d767a",
   "metadata": {
    "tags": []
   },
   "outputs": [
    {
     "name": "stdout",
     "output_type": "stream",
     "text": [
      "[[1. 0. 0. ... 0. 0. 0.]\n",
      " [0. 1. 0. ... 0. 0. 0.]\n",
      " [0. 0. 1. ... 0. 0. 0.]\n",
      " ...\n",
      " [0. 0. 0. ... 1. 0. 0.]\n",
      " [0. 0. 0. ... 0. 1. 0.]\n",
      " [0. 0. 0. ... 0. 0. 1.]]\n",
      "(45, 1440)\n"
     ]
    }
   ],
   "source": [
    "## repeating the labels for 32 (no_of trial) times\n",
    "labels_all_trials = np.tile(cat_zones, 32) \n",
    "print(labels_all_trials)\n",
    "print(np.shape(labels_all_trials))"
   ]
  },
  {
   "cell_type": "code",
   "execution_count": null,
   "id": "fdb97c79-6d43-43fe-8e38-bb2f3307ca5c",
   "metadata": {},
   "outputs": [],
   "source": [
    "## reshaping the data from  (45,1440) to (1440,45)\n",
    "reshaped_labels_all_trials = np.reshape(labels_all_trials, [n_samples, 45])"
   ]
  },
  {
   "cell_type": "code",
   "execution_count": 36,
   "id": "8bf66109-0ec1-466a-bd52-90dde1900f81",
   "metadata": {
    "tags": []
   },
   "outputs": [
    {
     "name": "stdout",
     "output_type": "stream",
     "text": [
      "[1279  169 1341 ...  727  513  363]\n"
     ]
    }
   ],
   "source": [
    "all_ind = np.random.choice(np.arange(0, n_samples, 1), n_samples, replace=False)\n",
    "print(all_ind)"
   ]
  },
  {
   "cell_type": "code",
   "execution_count": null,
   "id": "bc88f993-dd4b-43a5-939f-6ee9908c3c50",
   "metadata": {},
   "outputs": [],
   "source": [
    "# test - validation - train split (20/20/60)\n",
    "## shuffling numbers from 0 to 1439 to use them as indices \n",
    "all_ind = np.random.choice(np.arange(0, n_samples, 1), n_samples, replace=False) # replace=False --> unique  \n",
    "test_ind = all_ind[:int(n_samples/5)] # test --> 20%\n",
    "validation_ind = all_ind[int(n_samples/5):int(n_samples/5+n_samples/5)] #  validation --> 20% \n",
    "train_ind = all_ind[int(n_samples/5+n_samples/5):] # train --> 60%\n"
   ]
  },
  {
   "cell_type": "code",
   "execution_count": null,
   "id": "ce2fb84c-2af6-4b4b-b202-fbc4273dc8e8",
   "metadata": {},
   "outputs": [],
   "source": [
    "# comparing the elements of test - validation - train split \n",
    "\n",
    "comparison_matrix = train_ind[:, np.newaxis] == test_ind\n",
    "true_ind = np.where(comparison_matrix == True)\n",
    "repeat = np.shape(true_ind)\n",
    "\n",
    "if not repeat[1] == 0 :\n",
    "    raise SystemExit(\"Repeated elements in TrainTest!\")\n",
    "\n",
    "comparison_matrix2 = train_ind[:, np.newaxis] == validation_ind\n",
    "true_ind = np.where(comparison_matrix2 == True)\n",
    "repeat = np.shape(true_ind)\n",
    "\n",
    "if not repeat[1] == 0 :\n",
    "       raise SystemExit(\"Repeated elements in TrainTest!\")\n",
    "    \n",
    "comparison_matrix3 = test_ind[:, np.newaxis] == validation_ind\n",
    "true_ind = np.where(comparison_matrix3 == True)\n",
    "repeat = np.shape(true_ind)\n",
    "\n",
    "if not repeat[1] == 0 :\n",
    "    raise SystemExit(\"Repeated elements in TestValidation!\")\n",
    "          "
   ]
  }
 ],
 "metadata": {
  "kernelspec": {
   "display_name": "Python 3 (ipykernel)",
   "language": "python",
   "name": "python3"
  },
  "language_info": {
   "codemirror_mode": {
    "name": "ipython",
    "version": 3
   },
   "file_extension": ".py",
   "mimetype": "text/x-python",
   "name": "python",
   "nbconvert_exporter": "python",
   "pygments_lexer": "ipython3",
   "version": "3.11.5"
  }
 },
 "nbformat": 4,
 "nbformat_minor": 5
}
