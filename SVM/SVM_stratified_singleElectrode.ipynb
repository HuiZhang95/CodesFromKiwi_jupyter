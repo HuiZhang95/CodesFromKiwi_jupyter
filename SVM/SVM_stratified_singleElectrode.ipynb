{
 "cells": [
  {
   "cell_type": "code",
   "execution_count": null,
   "metadata": {},
   "outputs": [],
   "source": [
    "cur_el = joblib.load('it.sav')"
   ]
  },
  {
   "cell_type": "code",
   "execution_count": null,
   "metadata": {
    "tags": []
   },
   "outputs": [],
   "source": [
    "base_folder = Path('C:/Users/ilkele4s/')\n",
    "\n",
    "\n",
    "main_results_folder = Path('ML_Results/SVM_stratified_singleElectrode_results')\n",
    "new_results_folder = 'electrode_' +str(cur_el)\n",
    "\n",
    "data_folder = Path('Data/Electrodes')\n",
    "data_file = 'electrode_' +str(cur_el) + '.csv'\n",
    "\n",
    "cur_electrode_name = 'electrode_' +str(cur_el)"
   ]
  },
  {
   "cell_type": "code",
   "execution_count": null,
   "metadata": {
    "tags": []
   },
   "outputs": [],
   "source": [
    "results_dir = os.path.join(base_folder,main_results_folder)\n",
    "\n",
    "#if cur_el == 1:\n",
    "#    os.mkdir(results_dir)\n",
    "\n",
    "new_results_dir = os.path.join(results_dir,new_results_folder)"
   ]
  },
  {
   "cell_type": "code",
   "execution_count": null,
   "metadata": {},
   "outputs": [],
   "source": [
    "if not os.path.exists(new_results_dir): # if the directory does not exist\n",
    "\n",
    "    os.mkdir(new_results_dir)\n",
    "\n",
    "\n",
    "print(new_results_dir)"
   ]
  },
  {
   "cell_type": "code",
   "execution_count": null,
   "metadata": {
    "collapsed": false,
    "jupyter": {
     "outputs_hidden": false
    },
    "pycharm": {
     "name": "#%%\n"
    }
   },
   "outputs": [],
   "source": [
    "# load the data \n",
    "data_dir = os.path.join(base_folder,data_folder)\n",
    "\n",
    "data_file_path = os.path.join(data_dir,data_file)\n",
    "\n",
    "print(data_file_path)\n",
    "\n",
    "Data = pd.read_csv(data_file_path, header = None)"
   ]
  },
  {
   "cell_type": "code",
   "execution_count": null,
   "metadata": {
    "collapsed": false,
    "jupyter": {
     "outputs_hidden": false
    },
    "pycharm": {
     "name": "#%%\n"
    }
   },
   "outputs": [],
   "source": [
    "np.shape(Data)"
   ]
  },
  {
   "cell_type": "code",
   "execution_count": null,
   "metadata": {
    "collapsed": false,
    "jupyter": {
     "outputs_hidden": false
    },
    "pycharm": {
     "name": "#%%\n"
    }
   },
   "outputs": [],
   "source": [
    "# create a label set\n",
    "\n",
    "n_zones = 45\n",
    "n_trials = 32\n",
    "\n",
    "label_set = np.r_[1:n_zones+1]\n",
    "labels = np.tile(label_set, 32)\n"
   ]
  },
  {
   "cell_type": "code",
   "execution_count": null,
   "metadata": {
    "collapsed": false,
    "jupyter": {
     "outputs_hidden": false
    },
    "pycharm": {
     "name": "#%%\n"
    }
   },
   "outputs": [],
   "source": [
    "# merge samples and labels\n",
    "\n",
    "Data[300] = labels"
   ]
  },
  {
   "cell_type": "code",
   "execution_count": null,
   "metadata": {
    "collapsed": false,
    "jupyter": {
     "outputs_hidden": false
    },
    "pycharm": {
     "name": "#%%\n"
    }
   },
   "outputs": [],
   "source": [
    "# remove NAN values\n",
    "\n",
    "Data.dropna(inplace=True)\n",
    "Data = Data.reset_index()\n",
    "del Data['index']"
   ]
  },
  {
   "cell_type": "code",
   "execution_count": null,
   "metadata": {},
   "outputs": [],
   "source": [
    "Data_shape_noNan = np.shape(Data)\n",
    "print(Data_shape_noNan)"
   ]
  },
  {
   "cell_type": "code",
   "execution_count": null,
   "metadata": {},
   "outputs": [],
   "source": [
    "labels_rem = np.array(Data[300])"
   ]
  },
  {
   "cell_type": "code",
   "execution_count": null,
   "metadata": {},
   "outputs": [],
   "source": [
    "#np.shape(labels_rem)"
   ]
  },
  {
   "cell_type": "code",
   "execution_count": null,
   "metadata": {},
   "outputs": [],
   "source": [
    "#print(labels_rem)"
   ]
  },
  {
   "cell_type": "code",
   "execution_count": null,
   "metadata": {},
   "outputs": [],
   "source": [
    "samples = np.array(Data.drop(Data.columns[300],axis = 1))"
   ]
  },
  {
   "cell_type": "code",
   "execution_count": null,
   "metadata": {
    "collapsed": false,
    "jupyter": {
     "outputs_hidden": false
    },
    "pycharm": {
     "name": "#%%\n"
    }
   },
   "outputs": [],
   "source": [
    "# train - test split\n",
    "\n",
    "train_samples, test_samples, train_labels, test_labels = train_test_split(samples, labels_rem, test_size=0.20, stratify=labels_rem, random_state=42)"
   ]
  },
  {
   "cell_type": "code",
   "execution_count": null,
   "metadata": {},
   "outputs": [],
   "source": [
    "# standardization\n",
    "data_scale = 1\n",
    "if data_scale == 1:\n",
    "\n",
    "    sc = StandardScaler()\n",
    "    train_samples = sc.fit_transform(train_samples)\n",
    "    test_samples = sc.transform(test_samples)"
   ]
  },
  {
   "cell_type": "code",
   "execution_count": null,
   "metadata": {},
   "outputs": [],
   "source": [
    "comparison_matrix = train_samples[:, np.newaxis] == test_samples\n",
    "true_ind = np.where(comparison_matrix == True)\n",
    "tekrar = np.shape(true_ind)\n",
    "\n",
    "if not tekrar[1] == 0 :\n",
    "    print('Repeated elements!')\n",
    "else :\n",
    "     print('No repeated elements!')\n",
    "          "
   ]
  },
  {
   "cell_type": "code",
   "execution_count": null,
   "metadata": {},
   "outputs": [],
   "source": [
    "#plt.figure(figsize=(15, 10))\n",
    "#plt.hist(train_labels, bins=np.arange(47) - 0.5, linewidth=1, edgecolor=\"white\")"
   ]
  },
  {
   "cell_type": "code",
   "execution_count": null,
   "metadata": {},
   "outputs": [],
   "source": [
    "#plt.figure(figsize=(15, 10))\n",
    "#plt.hist(test_labels, bins=np.arange(47) - 0.5, linewidth=1, edgecolor=\"white\")"
   ]
  },
  {
   "cell_type": "code",
   "execution_count": null,
   "metadata": {
    "collapsed": false,
    "jupyter": {
     "outputs_hidden": false
    },
    "pycharm": {
     "is_executing": true,
     "name": "#%%\n"
    }
   },
   "outputs": [],
   "source": [
    "# model training with default parameters\n",
    "\n",
    "svm_model_base = svm.SVC()\n",
    "svm_model_base.fit(train_samples,train_labels)"
   ]
  },
  {
   "cell_type": "code",
   "execution_count": null,
   "metadata": {
    "collapsed": false,
    "jupyter": {
     "outputs_hidden": false
    },
    "pycharm": {
     "name": "#%%\n"
    }
   },
   "outputs": [],
   "source": [
    "# predictions with\n",
    "prediction_base = svm_model_base.predict(test_samples)"
   ]
  },
  {
   "cell_type": "code",
   "execution_count": null,
   "metadata": {},
   "outputs": [],
   "source": [
    "joblib.dump(prediction_base, os.path.join(new_results_dir,'base_prediction.sav'))"
   ]
  },
  {
   "cell_type": "code",
   "execution_count": null,
   "metadata": {
    "collapsed": false,
    "jupyter": {
     "outputs_hidden": false
    },
    "pycharm": {
     "name": "#%%\n"
    }
   },
   "outputs": [],
   "source": [
    "# creating grid\n",
    "\n",
    "param_grid = [{'class_weight': [None, 'balanced'], \n",
    "               'C':[0.5, 1, 10, 100], \n",
    "               'gamma': ['scale', 1, 0.1, 0.01, 0.001],\n",
    "               'kernel': ['rbf', 'poly', 'sigmoid','linear'], \n",
    "               'decision_function_shape': ['ovo','ovr']}]"
   ]
  },
  {
   "cell_type": "code",
   "execution_count": null,
   "metadata": {
    "collapsed": false,
    "jupyter": {
     "outputs_hidden": false
    },
    "pycharm": {
     "name": "#%%\n"
    }
   },
   "outputs": [],
   "source": [
    "# grid search\n",
    "\n",
    "optimal_params = GridSearchCV(svm.SVC(), param_grid, cv=5, scoring='balanced_accuracy', verbose=0)\n",
    "\n",
    "optimization = optimal_params.fit(train_samples, train_labels)\n"
   ]
  },
  {
   "cell_type": "code",
   "execution_count": null,
   "metadata": {
    "collapsed": false,
    "jupyter": {
     "outputs_hidden": false
    },
    "pycharm": {
     "name": "#%%\n"
    }
   },
   "outputs": [],
   "source": [
    "#print(optimal_params.best_params_)"
   ]
  },
  {
   "cell_type": "code",
   "execution_count": null,
   "metadata": {},
   "outputs": [],
   "source": [
    "joblib.dump(optimal_params.best_params_, os.path.join(new_results_dir,'best_params.sav'))"
   ]
  },
  {
   "cell_type": "code",
   "execution_count": null,
   "metadata": {},
   "outputs": [],
   "source": [
    "dict_string = \"\\n\".join([f\"{key}: {value}\" for key, value in optimal_params.best_params_.items()])"
   ]
  },
  {
   "cell_type": "code",
   "execution_count": null,
   "metadata": {
    "collapsed": false,
    "jupyter": {
     "outputs_hidden": false
    },
    "pycharm": {
     "name": "#%%\n"
    }
   },
   "outputs": [],
   "source": [
    "# getting optimal values for the parameters\n",
    "\n",
    "C_ = optimal_params.best_params_.get('C')\n",
    "dfs_ = optimal_params.best_params_.get('decision_function_shape')\n",
    "gamma_ = optimal_params.best_params_.get('gamma')\n",
    "kernel_ = optimal_params.best_params_.get('kernel')\n",
    "weight_ = optimal_params.best_params_.get('class_weight')"
   ]
  },
  {
   "cell_type": "code",
   "execution_count": null,
   "metadata": {
    "collapsed": false,
    "jupyter": {
     "outputs_hidden": false
    },
    "pycharm": {
     "name": "#%%\n"
    }
   },
   "outputs": [],
   "source": [
    "# train the model with the optimal values\n",
    "svm_model_optimized = svm.SVC(C=C_, class_weight=weight_, decision_function_shape=dfs_, gamma=gamma_, kernel=kernel_)\n",
    "svm_model_optimized.fit(train_samples,train_labels)"
   ]
  },
  {
   "cell_type": "code",
   "execution_count": null,
   "metadata": {
    "collapsed": false,
    "jupyter": {
     "outputs_hidden": false
    },
    "pycharm": {
     "name": "#%%\n"
    }
   },
   "outputs": [],
   "source": [
    "prediction_optimized = svm_model_optimized.predict(test_samples)"
   ]
  },
  {
   "cell_type": "code",
   "execution_count": null,
   "metadata": {},
   "outputs": [],
   "source": [
    "joblib.dump(prediction_optimized, os.path.join(new_results_dir,'optimized_prediction.sav'))"
   ]
  },
  {
   "cell_type": "code",
   "execution_count": null,
   "metadata": {
    "collapsed": false,
    "jupyter": {
     "outputs_hidden": false
    },
    "pycharm": {
     "name": "#%%\n"
    }
   },
   "outputs": [],
   "source": [
    "figure_name1 = cur_electrode_name + '_Cm_base.png'\n",
    "\n",
    "cm = confusion_matrix(test_labels, prediction_base, normalize='true', labels=svm_model_base.classes_)\n",
    "\n",
    "plt.figure(figsize=(20, 16))\n",
    "sns.heatmap(cm, fmt='.2', annot=True,annot_kws={\"size\": 8}, xticklabels=svm_model_base.classes_, yticklabels=svm_model_base.classes_)\n",
    "plt.xlabel('Predicted Labels')\n",
    "plt.ylabel('True Labels')\n",
    "plt.title('Confusion Matrix')\n",
    "\n",
    "\n",
    "plt.savefig(os.path.join(new_results_dir,figure_name1))\n",
    "#plt.show()\n"
   ]
  },
  {
   "cell_type": "code",
   "execution_count": null,
   "metadata": {
    "collapsed": false,
    "jupyter": {
     "outputs_hidden": false
    },
    "pycharm": {
     "name": "#%%\n"
    }
   },
   "outputs": [],
   "source": [
    "Acc_base= sum(test_labels == prediction_base)/len(test_labels)*100\n",
    "print('Acc_base is',Acc_base)"
   ]
  },
  {
   "cell_type": "code",
   "execution_count": null,
   "metadata": {},
   "outputs": [],
   "source": [
    "Acc_base_balanced = balanced_accuracy_score(test_labels, prediction_base)\n",
    "print('Acc_base_balanced is', Acc_base_balanced)"
   ]
  },
  {
   "cell_type": "code",
   "execution_count": null,
   "metadata": {
    "collapsed": false,
    "jupyter": {
     "outputs_hidden": false
    },
    "pycharm": {
     "name": "#%%\n"
    }
   },
   "outputs": [],
   "source": [
    "figure_name2 = cur_electrode_name + '_Cm_optim.png'\n",
    "\n",
    "cm = confusion_matrix(test_labels, prediction_optimized, normalize='true', labels=svm_model_base.classes_)\n",
    "\n",
    "plt.figure(figsize=(20, 16))\n",
    "sns.heatmap(cm, fmt='.2', annot=True, annot_kws={\"size\": 8}, xticklabels=svm_model_base.classes_, yticklabels=svm_model_base.classes_)\n",
    "plt.xlabel('Predicted Labels')\n",
    "plt.ylabel('True Labels')\n",
    "plt.title('Confusion Matrix')\n",
    "\n",
    "\n",
    "plt.savefig(os.path.join(new_results_dir,figure_name2))\n",
    "#plt.show()\n"
   ]
  },
  {
   "cell_type": "code",
   "execution_count": null,
   "metadata": {
    "collapsed": false,
    "jupyter": {
     "outputs_hidden": false
    },
    "pycharm": {
     "name": "#%%\n"
    }
   },
   "outputs": [],
   "source": [
    "Acc_optimized= sum(test_labels == prediction_optimized)/len(test_labels)*100\n",
    "print('Acc_optimized is', Acc_optimized)"
   ]
  },
  {
   "cell_type": "code",
   "execution_count": null,
   "metadata": {},
   "outputs": [],
   "source": [
    "Acc_optimized_balanced = balanced_accuracy_score(test_labels, prediction_optimized)\n",
    "print('Acc_optimized_balanced is',Acc_optimized_balanced)"
   ]
  },
  {
   "cell_type": "code",
   "execution_count": null,
   "metadata": {},
   "outputs": [],
   "source": [
    "f1_base = f1_score(test_labels, prediction_base, average='weighted')\n",
    "print('f1_base score is', f1_base)"
   ]
  },
  {
   "cell_type": "code",
   "execution_count": null,
   "metadata": {},
   "outputs": [],
   "source": [
    "f1_optimized = f1_score(test_labels, prediction_optimized, average='weighted')\n",
    "print('f1_optimized score is', f1_optimized)"
   ]
  },
  {
   "cell_type": "code",
   "execution_count": 40,
   "metadata": {},
   "outputs": [],
   "source": [
    "file_path = os.path.join(results_dir,'best_params.txt')\n",
    "\n",
    "with open(file_path, 'w') as file1:\n",
    "   \n",
    "          file1.write(cur_electrode_name + ':' + dict_string+'\\n')"
   ]
  },
  {
   "cell_type": "code",
   "execution_count": 41,
   "metadata": {},
   "outputs": [],
   "source": [
    "file_path2 = os.path.join(results_dir,'Acc_base.txt')\n",
    "\n",
    "with open(file_path2, 'w') as file2:\n",
    "    \n",
    "    file2.write(cur_electrode_name + ':' + str(Acc_base)+'\\n')"
   ]
  },
  {
   "cell_type": "code",
   "execution_count": 28,
   "metadata": {},
   "outputs": [],
   "source": [
    "file_path3 = os.path.join(results_dir, 'Acc_base_balanced.txt')\n",
    "\n",
    "with open(file_path3, 'w') as file3:\n",
    "    \n",
    "    file3.write(cur_electrode_name + ':' + str(Acc_base_balanced)+'\\n')\n"
   ]
  },
  {
   "cell_type": "code",
   "execution_count": null,
   "metadata": {},
   "outputs": [],
   "source": [
    "file_path4 = os.path.join(results_dir, 'Acc_optimized.txt')\n",
    "\n",
    "with open(file_path4, 'w') as file4:\n",
    "    \n",
    "    file4.write(cur_electrode_name + ':' + str(Acc_optimized)+'\\r\\n')"
   ]
  },
  {
   "cell_type": "code",
   "execution_count": null,
   "metadata": {},
   "outputs": [],
   "source": [
    "file_path5 = os.path.join(results_dir, 'Acc_optimized_balanced.txt')\n",
    "\n",
    "with open(file_path5, 'w') as file5:\n",
    "    \n",
    "    file5.write(cur_electrode_name + ':' + str(Acc_optimized_balanced)+'\\r\\n')"
   ]
  },
  {
   "cell_type": "code",
   "execution_count": null,
   "metadata": {},
   "outputs": [],
   "source": [
    "file_path6 = os.path.join(results_dir, 'f1_base.txt')\n",
    "\n",
    "with open(file_path6, 'w') as file6:\n",
    "    \n",
    "    file6.write(cur_electrode_name + ':' + str(f1_base)+'\\r\\n')"
   ]
  }
 ],
 "metadata": {
  "kernelspec": {
   "display_name": "Python 3 (ipykernel)",
   "language": "python",
   "name": "python3"
  },
  "language_info": {
   "codemirror_mode": {
    "name": "ipython",
    "version": 3
   },
   "file_extension": ".py",
   "mimetype": "text/x-python",
   "name": "python",
   "nbconvert_exporter": "python",
   "pygments_lexer": "ipython3",
   "version": "3.11.5"
  }
 },
 "nbformat": 4,
 "nbformat_minor": 4
}
