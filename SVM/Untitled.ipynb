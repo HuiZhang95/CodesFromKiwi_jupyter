{
 "cells": [
  {
   "cell_type": "code",
   "execution_count": 1,
   "id": "25f8f5fc-df83-4855-9991-914c01cd2717",
   "metadata": {
    "tags": []
   },
   "outputs": [
    {
     "data": {
      "text/plain": [
       "array([0.91666667, 0.95      , 0.94666667, 0.9632107 , 0.95317726,\n",
       "       0.93311037])"
      ]
     },
     "execution_count": 1,
     "metadata": {},
     "output_type": "execute_result"
    }
   ],
   "source": [
    "from sklearn.model_selection import KFold, cross_val_score, GridSearchCV\n",
    "import numpy as np\n",
    "from sklearn import datasets, svm\n",
    "from sklearn.preprocessing import StandardScaler\n",
    "from sklearn.pipeline import make_pipeline\n",
    "\n",
    "# load in data\n",
    "X_digits, y_digits = datasets.load_digits(return_X_y=True)\n",
    "\n",
    "# grid search\n",
    "#svc = svm.SVC(kernel=\"linear\") # one of course can specify other parameters\n",
    "Cs = np.logspace(-6, -1, 30)\n",
    "clf = GridSearchCV(estimator=svm.SVC(), param_grid=dict(C=Cs), n_jobs=-1)\n",
    "clf1 = make_pipeline(StandardScaler(), clf)\n",
    "clf1.fit(X_digits[:1000], y_digits[:1000])     \n",
    "\n",
    "# perform nested cross validation\n",
    "k_fold_no = 6\n",
    "k_fold = KFold(k_fold_no, shuffle=True)\n",
    "clf2 = make_pipeline(StandardScaler(), clf1)\n",
    "cross_val_score(clf2, X_digits, y_digits, cv=k_fold) "
   ]
  },
  {
   "cell_type": "code",
   "execution_count": null,
   "id": "b39305cf-66d0-4655-8a76-b8206c1cb96c",
   "metadata": {},
   "outputs": [],
   "source": []
  }
 ],
 "metadata": {
  "kernelspec": {
   "display_name": "Python 3 (ipykernel)",
   "language": "python",
   "name": "python3"
  },
  "language_info": {
   "codemirror_mode": {
    "name": "ipython",
    "version": 3
   },
   "file_extension": ".py",
   "mimetype": "text/x-python",
   "name": "python",
   "nbconvert_exporter": "python",
   "pygments_lexer": "ipython3",
   "version": "3.11.5"
  }
 },
 "nbformat": 4,
 "nbformat_minor": 5
}
