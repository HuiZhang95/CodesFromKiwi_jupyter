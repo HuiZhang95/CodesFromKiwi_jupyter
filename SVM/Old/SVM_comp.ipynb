{
 "cells": [
  {
   "cell_type": "code",
   "execution_count": 35,
   "metadata": {
    "pycharm": {
     "name": "#%%\n"
    },
    "tags": []
   },
   "outputs": [],
   "source": [
    "import numpy as np\n",
    "from sklearn import svm\n",
    "from sklearn.model_selection import GridSearchCV\n",
    "from sklearn.metrics import confusion_matrix\n",
    "from sklearn.metrics import ConfusionMatrixDisplay\n",
    "import pandas as pd\n",
    "import matplotlib.pyplot as plt\n",
    "import joblib # for saving and loading variables\n",
    "import os\n",
    "from sklearn.metrics import balanced_accuracy_score\n",
    "from sklearn.metrics import f1_score\n",
    "from pathlib import Path\n",
    "import seaborn as sns"
   ]
  },
  {
   "cell_type": "code",
   "execution_count": 36,
   "metadata": {
    "tags": []
   },
   "outputs": [],
   "source": [
    "base_folder = Path('C:/Users/ilkele4s/')"
   ]
  },
  {
   "cell_type": "code",
   "execution_count": 37,
   "metadata": {
    "tags": []
   },
   "outputs": [],
   "source": [
    "NewDirectory = 'SVM_comp_results'\n",
    "#os.mkdir(os.path.join(base_folder,NewDirectory))\n",
    "NewDirectory = os.path.join(base_folder,NewDirectory)"
   ]
  },
  {
   "cell_type": "code",
   "execution_count": 38,
   "metadata": {
    "collapsed": false,
    "jupyter": {
     "outputs_hidden": false
    },
    "pycharm": {
     "name": "#%%\n"
    }
   },
   "outputs": [
    {
     "name": "stdout",
     "output_type": "stream",
     "text": [
      "C:\\Users\\ilkele4s\\Downloads\n"
     ]
    }
   ],
   "source": [
    "# load the data (samples only)\n",
    "\n",
    "file_folder = 'C:' + '\\\\' + 'Users' + '\\\\' + 'ilkele4s' + '\\\\' + 'Downloads'\n",
    "print(file_folder)"
   ]
  },
  {
   "cell_type": "code",
   "execution_count": 39,
   "metadata": {},
   "outputs": [
    {
     "name": "stdout",
     "output_type": "stream",
     "text": [
      "C:\\Users\\ilkele4s\\Downloads\\LSTM_data.csv\n"
     ]
    }
   ],
   "source": [
    "File = 'LSTM_data.csv'\n",
    "file_path = os.path.join(file_folder,File)\n",
    "print(file_path)"
   ]
  },
  {
   "cell_type": "code",
   "execution_count": 40,
   "metadata": {},
   "outputs": [],
   "source": [
    "\n",
    "Data = pd.read_csv(file_path, header = None)"
   ]
  },
  {
   "cell_type": "code",
   "execution_count": 41,
   "metadata": {
    "collapsed": false,
    "jupyter": {
     "outputs_hidden": false
    },
    "pycharm": {
     "name": "#%%\n"
    }
   },
   "outputs": [
    {
     "data": {
      "text/plain": [
       "(1440, 17400)"
      ]
     },
     "execution_count": 41,
     "metadata": {},
     "output_type": "execute_result"
    }
   ],
   "source": [
    "np.shape(Data)"
   ]
  },
  {
   "cell_type": "code",
   "execution_count": 42,
   "metadata": {
    "collapsed": false,
    "jupyter": {
     "outputs_hidden": false
    },
    "pycharm": {
     "name": "#%%\n"
    }
   },
   "outputs": [],
   "source": [
    "# create a label set\n",
    "\n",
    "n_zones = 45\n",
    "n_trials = 32\n",
    "\n",
    "label_set = np.r_[1:n_zones+1]\n",
    "labels = np.tile(label_set, 32)\n"
   ]
  },
  {
   "cell_type": "code",
   "execution_count": 43,
   "metadata": {},
   "outputs": [
    {
     "name": "stdout",
     "output_type": "stream",
     "text": [
      "[ 2  3  4  5  6  7  8  9 10 11 12 13 14 15 16 17 18 19 20 21 22 23 24 25\n",
      " 26 27 28 29 30 31 32 33 34 35 36 37 38 39 40 41 42 43 44 45  1]\n"
     ]
    }
   ],
   "source": [
    "print(labels[1:n_zones+1])"
   ]
  },
  {
   "cell_type": "code",
   "execution_count": 44,
   "metadata": {
    "collapsed": false,
    "jupyter": {
     "outputs_hidden": false
    },
    "pycharm": {
     "name": "#%%\n"
    }
   },
   "outputs": [],
   "source": [
    "# merge samples and labels\n",
    "\n",
    "Data[17400] = labels"
   ]
  },
  {
   "cell_type": "code",
   "execution_count": 45,
   "metadata": {
    "collapsed": false,
    "jupyter": {
     "outputs_hidden": false
    },
    "pycharm": {
     "name": "#%%\n"
    }
   },
   "outputs": [],
   "source": [
    "# remove NAN values\n",
    "\n",
    "Data.dropna(inplace=True)\n",
    "Data = Data.reset_index()\n",
    "del Data['index']"
   ]
  },
  {
   "cell_type": "code",
   "execution_count": 46,
   "metadata": {},
   "outputs": [
    {
     "data": {
      "text/plain": [
       "(889, 17401)"
      ]
     },
     "execution_count": 46,
     "metadata": {},
     "output_type": "execute_result"
    }
   ],
   "source": [
    "np.shape(Data)"
   ]
  },
  {
   "cell_type": "code",
   "execution_count": 47,
   "metadata": {},
   "outputs": [
    {
     "data": {
      "text/html": [
       "<div>\n",
       "<style scoped>\n",
       "    .dataframe tbody tr th:only-of-type {\n",
       "        vertical-align: middle;\n",
       "    }\n",
       "\n",
       "    .dataframe tbody tr th {\n",
       "        vertical-align: top;\n",
       "    }\n",
       "\n",
       "    .dataframe thead th {\n",
       "        text-align: right;\n",
       "    }\n",
       "</style>\n",
       "<table border=\"1\" class=\"dataframe\">\n",
       "  <thead>\n",
       "    <tr style=\"text-align: right;\">\n",
       "      <th></th>\n",
       "      <th>0</th>\n",
       "      <th>1</th>\n",
       "      <th>2</th>\n",
       "      <th>3</th>\n",
       "      <th>4</th>\n",
       "      <th>5</th>\n",
       "      <th>6</th>\n",
       "      <th>7</th>\n",
       "      <th>8</th>\n",
       "      <th>9</th>\n",
       "      <th>...</th>\n",
       "      <th>17391</th>\n",
       "      <th>17392</th>\n",
       "      <th>17393</th>\n",
       "      <th>17394</th>\n",
       "      <th>17395</th>\n",
       "      <th>17396</th>\n",
       "      <th>17397</th>\n",
       "      <th>17398</th>\n",
       "      <th>17399</th>\n",
       "      <th>17400</th>\n",
       "    </tr>\n",
       "  </thead>\n",
       "  <tbody>\n",
       "    <tr>\n",
       "      <th>0</th>\n",
       "      <td>-0.641177</td>\n",
       "      <td>-0.623621</td>\n",
       "      <td>-0.835555</td>\n",
       "      <td>-0.450092</td>\n",
       "      <td>2.113778</td>\n",
       "      <td>-0.239912</td>\n",
       "      <td>-0.909470</td>\n",
       "      <td>-0.868870</td>\n",
       "      <td>-0.225887</td>\n",
       "      <td>0.192207</td>\n",
       "      <td>...</td>\n",
       "      <td>0.100054</td>\n",
       "      <td>-0.229488</td>\n",
       "      <td>-0.168956</td>\n",
       "      <td>-0.119959</td>\n",
       "      <td>-0.132878</td>\n",
       "      <td>-0.037955</td>\n",
       "      <td>-0.243916</td>\n",
       "      <td>-0.142699</td>\n",
       "      <td>-0.138725</td>\n",
       "      <td>1</td>\n",
       "    </tr>\n",
       "    <tr>\n",
       "      <th>1</th>\n",
       "      <td>0.172679</td>\n",
       "      <td>-0.044002</td>\n",
       "      <td>0.136370</td>\n",
       "      <td>0.060064</td>\n",
       "      <td>-0.528674</td>\n",
       "      <td>-0.253855</td>\n",
       "      <td>-0.857574</td>\n",
       "      <td>-0.746933</td>\n",
       "      <td>-0.616906</td>\n",
       "      <td>0.081487</td>\n",
       "      <td>...</td>\n",
       "      <td>-0.158266</td>\n",
       "      <td>-0.238090</td>\n",
       "      <td>-0.212150</td>\n",
       "      <td>-0.192666</td>\n",
       "      <td>-0.333702</td>\n",
       "      <td>0.069094</td>\n",
       "      <td>0.385279</td>\n",
       "      <td>-0.132032</td>\n",
       "      <td>-0.118693</td>\n",
       "      <td>3</td>\n",
       "    </tr>\n",
       "    <tr>\n",
       "      <th>2</th>\n",
       "      <td>-0.973045</td>\n",
       "      <td>-0.898037</td>\n",
       "      <td>-0.918644</td>\n",
       "      <td>-0.956632</td>\n",
       "      <td>-0.833060</td>\n",
       "      <td>0.131404</td>\n",
       "      <td>-0.771800</td>\n",
       "      <td>-0.670775</td>\n",
       "      <td>-0.898648</td>\n",
       "      <td>-0.652746</td>\n",
       "      <td>...</td>\n",
       "      <td>-0.013252</td>\n",
       "      <td>-0.176477</td>\n",
       "      <td>-0.296344</td>\n",
       "      <td>-0.154384</td>\n",
       "      <td>-0.026499</td>\n",
       "      <td>0.665561</td>\n",
       "      <td>0.128607</td>\n",
       "      <td>0.092490</td>\n",
       "      <td>0.072999</td>\n",
       "      <td>5</td>\n",
       "    </tr>\n",
       "    <tr>\n",
       "      <th>3</th>\n",
       "      <td>-0.268180</td>\n",
       "      <td>0.539558</td>\n",
       "      <td>-0.087995</td>\n",
       "      <td>-0.804609</td>\n",
       "      <td>-0.745309</td>\n",
       "      <td>-0.740893</td>\n",
       "      <td>-0.862641</td>\n",
       "      <td>-0.844809</td>\n",
       "      <td>0.271276</td>\n",
       "      <td>0.557565</td>\n",
       "      <td>...</td>\n",
       "      <td>0.032621</td>\n",
       "      <td>-0.025834</td>\n",
       "      <td>0.126220</td>\n",
       "      <td>0.185783</td>\n",
       "      <td>0.454748</td>\n",
       "      <td>-0.042679</td>\n",
       "      <td>-0.132942</td>\n",
       "      <td>0.023480</td>\n",
       "      <td>0.019001</td>\n",
       "      <td>9</td>\n",
       "    </tr>\n",
       "    <tr>\n",
       "      <th>4</th>\n",
       "      <td>-0.837382</td>\n",
       "      <td>-0.388745</td>\n",
       "      <td>-0.397531</td>\n",
       "      <td>-0.719531</td>\n",
       "      <td>-0.659685</td>\n",
       "      <td>-0.753819</td>\n",
       "      <td>-0.234051</td>\n",
       "      <td>-0.063746</td>\n",
       "      <td>-0.633838</td>\n",
       "      <td>-0.391953</td>\n",
       "      <td>...</td>\n",
       "      <td>-0.190948</td>\n",
       "      <td>-0.030475</td>\n",
       "      <td>0.316105</td>\n",
       "      <td>0.147513</td>\n",
       "      <td>0.315826</td>\n",
       "      <td>0.087961</td>\n",
       "      <td>-0.093728</td>\n",
       "      <td>0.037999</td>\n",
       "      <td>0.041059</td>\n",
       "      <td>10</td>\n",
       "    </tr>\n",
       "  </tbody>\n",
       "</table>\n",
       "<p>5 rows × 17401 columns</p>\n",
       "</div>"
      ],
      "text/plain": [
       "      0         1         2         3         4         5         6      \\\n",
       "0 -0.641177 -0.623621 -0.835555 -0.450092  2.113778 -0.239912 -0.909470   \n",
       "1  0.172679 -0.044002  0.136370  0.060064 -0.528674 -0.253855 -0.857574   \n",
       "2 -0.973045 -0.898037 -0.918644 -0.956632 -0.833060  0.131404 -0.771800   \n",
       "3 -0.268180  0.539558 -0.087995 -0.804609 -0.745309 -0.740893 -0.862641   \n",
       "4 -0.837382 -0.388745 -0.397531 -0.719531 -0.659685 -0.753819 -0.234051   \n",
       "\n",
       "      7         8         9      ...     17391     17392     17393     17394  \\\n",
       "0 -0.868870 -0.225887  0.192207  ...  0.100054 -0.229488 -0.168956 -0.119959   \n",
       "1 -0.746933 -0.616906  0.081487  ... -0.158266 -0.238090 -0.212150 -0.192666   \n",
       "2 -0.670775 -0.898648 -0.652746  ... -0.013252 -0.176477 -0.296344 -0.154384   \n",
       "3 -0.844809  0.271276  0.557565  ...  0.032621 -0.025834  0.126220  0.185783   \n",
       "4 -0.063746 -0.633838 -0.391953  ... -0.190948 -0.030475  0.316105  0.147513   \n",
       "\n",
       "      17395     17396     17397     17398     17399  17400  \n",
       "0 -0.132878 -0.037955 -0.243916 -0.142699 -0.138725      1  \n",
       "1 -0.333702  0.069094  0.385279 -0.132032 -0.118693      3  \n",
       "2 -0.026499  0.665561  0.128607  0.092490  0.072999      5  \n",
       "3  0.454748 -0.042679 -0.132942  0.023480  0.019001      9  \n",
       "4  0.315826  0.087961 -0.093728  0.037999  0.041059     10  \n",
       "\n",
       "[5 rows x 17401 columns]"
      ]
     },
     "execution_count": 47,
     "metadata": {},
     "output_type": "execute_result"
    }
   ],
   "source": [
    "Data.head()"
   ]
  },
  {
   "cell_type": "code",
   "execution_count": 48,
   "metadata": {},
   "outputs": [],
   "source": [
    "#plt.figure(figsize=(15, 10))\n",
    "#plt.hist(Data[17400], bins=np.arange(47) - 0.5, linewidth=1, edgecolor=\"white\")"
   ]
  },
  {
   "cell_type": "code",
   "execution_count": 49,
   "metadata": {
    "collapsed": false,
    "jupyter": {
     "outputs_hidden": false
    },
    "pycharm": {
     "name": "#%%\n"
    }
   },
   "outputs": [],
   "source": [
    "# train - test split    126024\n",
    "\n",
    "n_samples = 889\n",
    "\n",
    "all_ind = np.random.choice(np.arange(0, n_samples, 1), n_samples)\n",
    "test_ind = all_ind[:int(n_samples/5)]\n",
    "train_ind = all_ind[int(n_samples/5):]\n",
    "\n",
    "test = Data.iloc[test_ind]\n",
    "train = Data.iloc[train_ind]"
   ]
  },
  {
   "cell_type": "code",
   "execution_count": 50,
   "metadata": {},
   "outputs": [
    {
     "data": {
      "text/plain": [
       "(889,)"
      ]
     },
     "execution_count": 50,
     "metadata": {},
     "output_type": "execute_result"
    }
   ],
   "source": [
    "np.shape(all_ind)"
   ]
  },
  {
   "cell_type": "code",
   "execution_count": 51,
   "metadata": {},
   "outputs": [
    {
     "data": {
      "text/plain": [
       "(553,)"
      ]
     },
     "execution_count": 51,
     "metadata": {},
     "output_type": "execute_result"
    }
   ],
   "source": [
    "np.shape(np.unique(all_ind))"
   ]
  },
  {
   "cell_type": "code",
   "execution_count": 30,
   "metadata": {},
   "outputs": [],
   "source": [
    "true_ind = np.where(comparison_matrix == True)"
   ]
  },
  {
   "cell_type": "code",
   "execution_count": 32,
   "metadata": {},
   "outputs": [
    {
     "data": {
      "text/plain": [
       "(712, 177)"
      ]
     },
     "execution_count": 32,
     "metadata": {},
     "output_type": "execute_result"
    }
   ],
   "source": [
    "np.shape(comparison_matrix)"
   ]
  },
  {
   "cell_type": "code",
   "execution_count": 31,
   "metadata": {},
   "outputs": [
    {
     "data": {
      "text/plain": [
       "(2, 129)"
      ]
     },
     "execution_count": 31,
     "metadata": {},
     "output_type": "execute_result"
    }
   ],
   "source": [
    "np.shape(true_ind)"
   ]
  },
  {
   "cell_type": "code",
   "execution_count": 33,
   "metadata": {},
   "outputs": [],
   "source": [
    "false_ind = np.where(comparison_matrix == False)"
   ]
  },
  {
   "cell_type": "code",
   "execution_count": 34,
   "metadata": {},
   "outputs": [
    {
     "data": {
      "text/plain": [
       "(2, 125895)"
      ]
     },
     "execution_count": 34,
     "metadata": {},
     "output_type": "execute_result"
    }
   ],
   "source": [
    "np.shape(false_ind)"
   ]
  },
  {
   "cell_type": "code",
   "execution_count": null,
   "metadata": {
    "collapsed": false,
    "jupyter": {
     "outputs_hidden": false
    },
    "pycharm": {
     "name": "#%%\n"
    }
   },
   "outputs": [],
   "source": [
    "# train - test split remove teh index column\n",
    "\n",
    "test = test.reset_index()\n",
    "del test['index']\n",
    "\n",
    "train = train.reset_index()\n",
    "del train['index']"
   ]
  },
  {
   "cell_type": "code",
   "execution_count": null,
   "metadata": {
    "collapsed": false,
    "jupyter": {
     "outputs_hidden": false
    },
    "pycharm": {
     "name": "#%%\n"
    }
   },
   "outputs": [],
   "source": [
    "# separate samples from labels\n",
    "\n",
    "sample_ind = np.array(list(range(0,17400)))\n",
    "label_ind = 17400\n",
    "\n",
    "train_samples = train[sample_ind]\n",
    "train_labels = train[label_ind]\n",
    "\n",
    "test_samples = test[sample_ind]\n",
    "test_labels = test[label_ind]\n",
    "\n",
    "# turning into arrays for skitlearn\n",
    "\n",
    "train_samples_array = np.array(train_samples)\n",
    "train_labels_array = np.array(train_labels)\n",
    "\n",
    "test_samples_array = np.array(test_samples)\n",
    "test_labels_array = np.array(test_labels)"
   ]
  },
  {
   "cell_type": "code",
   "execution_count": null,
   "metadata": {},
   "outputs": [],
   "source": []
  },
  {
   "cell_type": "code",
   "execution_count": null,
   "metadata": {},
   "outputs": [],
   "source": [
    "plt.figure(figsize=(15, 10))\n",
    "plt.hist(train_labels_array, bins=np.arange(47) - 0.5, linewidth=1, edgecolor=\"white\")"
   ]
  },
  {
   "cell_type": "code",
   "execution_count": null,
   "metadata": {},
   "outputs": [],
   "source": [
    "plt.figure(figsize=(15, 10))\n",
    "plt.hist(test_labels_array, bins=np.arange(47) - 0.5, linewidth=1, edgecolor=\"white\")"
   ]
  },
  {
   "cell_type": "code",
   "execution_count": null,
   "metadata": {},
   "outputs": [],
   "source": [
    "joblib.dump(train_samples_array, os.path.join(NewDirectory,'train_samples.sav'))\n",
    "joblib.dump(train_labels_array, os.path.join(NewDirectory,'train_labels.sav'))\n",
    "\n",
    "joblib.dump(test_samples_array, os.path.join(NewDirectory,'test_samples.sav'))\n",
    "joblib.dump(test_labels_array, os.path.join(NewDirectory,'test_labels.sav'))"
   ]
  },
  {
   "cell_type": "code",
   "execution_count": null,
   "metadata": {},
   "outputs": [],
   "source": [
    "print(train_samples_array)"
   ]
  },
  {
   "cell_type": "code",
   "execution_count": null,
   "metadata": {},
   "outputs": [],
   "source": [
    "print(train_labels_array)"
   ]
  },
  {
   "cell_type": "code",
   "execution_count": null,
   "metadata": {
    "collapsed": false,
    "jupyter": {
     "outputs_hidden": false
    },
    "pycharm": {
     "is_executing": true,
     "name": "#%%\n"
    }
   },
   "outputs": [],
   "source": [
    "# model training with default parameters\n",
    "\n",
    "svm_model_base = svm.SVC()\n",
    "svm_model_base.fit(train_samples_array,train_labels_array)"
   ]
  },
  {
   "cell_type": "code",
   "execution_count": null,
   "metadata": {
    "collapsed": false,
    "jupyter": {
     "outputs_hidden": false
    },
    "pycharm": {
     "name": "#%%\n"
    }
   },
   "outputs": [],
   "source": [
    "# predictions with\n",
    "\n",
    "prediction_base = svm_model_base.predict(test_samples_array)"
   ]
  },
  {
   "cell_type": "code",
   "execution_count": null,
   "metadata": {},
   "outputs": [],
   "source": [
    "joblib.dump(prediction_base, os.path.join(NewDirectory,'base_prediction.sav'))"
   ]
  },
  {
   "cell_type": "code",
   "execution_count": null,
   "metadata": {
    "collapsed": false,
    "jupyter": {
     "outputs_hidden": false
    },
    "pycharm": {
     "name": "#%%\n"
    }
   },
   "outputs": [],
   "source": [
    "# creating grid\n",
    "\n",
    "param_grid = [{'class_weight': [None, 'balanced'], 'C':[0.5, 1, 10, 100], 'gamma': ['scale', 1, 0.1, 0.01, 0.001, 0.0001],'kernel': ['linear','rbf'], 'decision_function_shape': ['ovo','ovr']}]"
   ]
  },
  {
   "cell_type": "code",
   "execution_count": null,
   "metadata": {
    "collapsed": false,
    "jupyter": {
     "outputs_hidden": false
    },
    "pycharm": {
     "name": "#%%\n"
    }
   },
   "outputs": [],
   "source": [
    "# grid search\n",
    "\n",
    "\n",
    "optimal_params = GridSearchCV(svm.SVC(), param_grid, cv=3, scoring='accuracy', verbose=0)\n",
    "\n",
    "optimization = optimal_params.fit(train_samples_array, train_labels_array)\n"
   ]
  },
  {
   "cell_type": "code",
   "execution_count": null,
   "metadata": {
    "collapsed": false,
    "jupyter": {
     "outputs_hidden": false
    },
    "pycharm": {
     "name": "#%%\n"
    }
   },
   "outputs": [],
   "source": [
    "print(optimal_params.best_params_)"
   ]
  },
  {
   "cell_type": "code",
   "execution_count": null,
   "metadata": {},
   "outputs": [],
   "source": [
    "joblib.dump(optimal_params.best_params_, os.path.join(NewDirectory,'best_params.sav'))"
   ]
  },
  {
   "cell_type": "code",
   "execution_count": null,
   "metadata": {},
   "outputs": [],
   "source": [
    "dict_string = \"\\n\".join([f\"{key}: {value}\" for key, value in optimal_params.best_params_.items()])"
   ]
  },
  {
   "cell_type": "code",
   "execution_count": null,
   "metadata": {},
   "outputs": [],
   "source": [
    "file = open(os.path.join(NewDirectory,'best_params.txt'), 'w')\n",
    "# Write content to the file\n",
    "file.write(dict_string)"
   ]
  },
  {
   "cell_type": "code",
   "execution_count": null,
   "metadata": {
    "collapsed": false,
    "jupyter": {
     "outputs_hidden": false
    },
    "pycharm": {
     "name": "#%%\n"
    }
   },
   "outputs": [],
   "source": [
    "# getting optimal values for the parameters\n",
    "\n",
    "C_ = optimal_params.best_params_.get('C')\n",
    "dfs_ = optimal_params.best_params_.get('decision_function_shape')\n",
    "gamma_ = optimal_params.best_params_.get('gamma')\n",
    "kernel_ = optimal_params.best_params_.get('kernel')\n",
    "weight_ = optimal_params.best_params_.get('class_weight')"
   ]
  },
  {
   "cell_type": "code",
   "execution_count": null,
   "metadata": {
    "collapsed": false,
    "jupyter": {
     "outputs_hidden": false
    },
    "pycharm": {
     "name": "#%%\n"
    }
   },
   "outputs": [],
   "source": [
    "# train the model with the optimal values\n",
    "svm_model_optimized = svm.SVC(C=C_, class_weight=weight_, decision_function_shape=dfs_, gamma=gamma_, kernel=kernel_)\n",
    "svm_model_optimized.fit(train_samples_array,train_labels_array)"
   ]
  },
  {
   "cell_type": "code",
   "execution_count": null,
   "metadata": {
    "collapsed": false,
    "jupyter": {
     "outputs_hidden": false
    },
    "pycharm": {
     "name": "#%%\n"
    }
   },
   "outputs": [],
   "source": [
    "prediction_optimized = svm_model_optimized.predict(test_samples_array)"
   ]
  },
  {
   "cell_type": "code",
   "execution_count": null,
   "metadata": {},
   "outputs": [],
   "source": [
    "joblib.dump(prediction_optimized, os.path.join(NewDirectory,'optimized_prediction.sav'))"
   ]
  },
  {
   "cell_type": "code",
   "execution_count": null,
   "metadata": {
    "collapsed": false,
    "jupyter": {
     "outputs_hidden": false
    },
    "pycharm": {
     "name": "#%%\n"
    }
   },
   "outputs": [],
   "source": [
    "#%%\n",
    "cm = confusion_matrix(test_labels_array, prediction_base, normalize='true', labels=svm_model_base.classes_)\n",
    "\n",
    "plt.figure(figsize=(20, 16))\n",
    "sns.heatmap(cm, fmt='.2', annot=True,annot_kws={\"size\": 8}, xticklabels=svm_model_base.classes_, yticklabels=svm_model_base.classes_)\n",
    "plt.xlabel('Predicted Labels')\n",
    "plt.ylabel('True Labels')\n",
    "plt.title('Confusion Matrix')\n",
    "plt.savefig(os.path.join(NewDirectory,'Cm_base.png'))\n",
    "plt.show()\n"
   ]
  },
  {
   "cell_type": "code",
   "execution_count": null,
   "metadata": {
    "collapsed": false,
    "jupyter": {
     "outputs_hidden": false
    },
    "pycharm": {
     "name": "#%%\n"
    }
   },
   "outputs": [],
   "source": [
    "Acc_base= sum(test_labels_array == prediction_base)/len(test_labels_array)*100"
   ]
  },
  {
   "cell_type": "code",
   "execution_count": null,
   "metadata": {},
   "outputs": [],
   "source": [
    "file = open( os.path.join(NewDirectory,'Acc_base.txt'), 'w')\n",
    "# Write content to the file\n",
    "file.write(str(Acc_base))"
   ]
  },
  {
   "cell_type": "code",
   "execution_count": null,
   "metadata": {},
   "outputs": [],
   "source": [
    "Acc_base2 = balanced_accuracy_score(test_labels_array, prediction_base)\n",
    "print(Acc_base2)"
   ]
  },
  {
   "cell_type": "code",
   "execution_count": null,
   "metadata": {},
   "outputs": [],
   "source": [
    "file = open( os.path.join(NewDirectory,'Acc_base2.txt'), 'w')\n",
    "# Write content to the file\n",
    "file.write(str(Acc_base2))"
   ]
  },
  {
   "cell_type": "code",
   "execution_count": null,
   "metadata": {
    "collapsed": false,
    "jupyter": {
     "outputs_hidden": false
    },
    "pycharm": {
     "name": "#%%\n"
    }
   },
   "outputs": [],
   "source": [
    "cm = confusion_matrix(test_labels_array, prediction_optimized, normalize='true', labels=svm_model_base.classes_)\n",
    "\n",
    "plt.figure(figsize=(20, 16))\n",
    "sns.heatmap(cm, fmt='.2', annot=True, annot_kws={\"size\": 8}, xticklabels=svm_model_base.classes_, yticklabels=svm_model_base.classes_)\n",
    "plt.xlabel('Predicted Labels')\n",
    "plt.ylabel('True Labels')\n",
    "plt.title('Confusion Matrix')\n",
    "\n",
    "plt.savefig(os.path.join(NewDirectory,'Cm_optim.png'))\n",
    "plt.show()\n"
   ]
  },
  {
   "cell_type": "code",
   "execution_count": null,
   "metadata": {
    "collapsed": false,
    "jupyter": {
     "outputs_hidden": false
    },
    "pycharm": {
     "name": "#%%\n"
    }
   },
   "outputs": [],
   "source": [
    "Acc_optimized= sum(test_labels_array == prediction_optimized)/len(test_labels_array)*100\n",
    "print(Acc_optimized)"
   ]
  },
  {
   "cell_type": "code",
   "execution_count": null,
   "metadata": {},
   "outputs": [],
   "source": [
    "file = open(os.path.join(NewDirectory,'Acc_optimized.txt'), 'w')\n",
    "# Write content to the file\n",
    "file.write(str(Acc_optimized))"
   ]
  },
  {
   "cell_type": "code",
   "execution_count": null,
   "metadata": {},
   "outputs": [],
   "source": [
    "Acc_optimized2 = balanced_accuracy_score(test_labels_array, prediction_optimized)\n",
    "print(Acc_optimized2)"
   ]
  },
  {
   "cell_type": "code",
   "execution_count": null,
   "metadata": {},
   "outputs": [],
   "source": [
    "file = open(os.path.join(NewDirectory,'Acc_optimized2.txt'), 'w')\n",
    "# Write content to the file\n",
    "file.write(str(Acc_optimized2))"
   ]
  },
  {
   "cell_type": "code",
   "execution_count": null,
   "metadata": {},
   "outputs": [],
   "source": [
    "f1 = f1_score(test_labels_array, prediction_optimized, average='weighted')\n",
    "print(f1)"
   ]
  },
  {
   "cell_type": "code",
   "execution_count": null,
   "metadata": {},
   "outputs": [],
   "source": [
    "file = open(os.path.join(NewDirectory,'F1.txt'), 'w')\n",
    "# Write content to the file\n",
    "file.write(str(f1))"
   ]
  },
  {
   "cell_type": "code",
   "execution_count": null,
   "metadata": {},
   "outputs": [],
   "source": [
    "np.unique(test_labels_array) "
   ]
  },
  {
   "cell_type": "code",
   "execution_count": null,
   "metadata": {},
   "outputs": [],
   "source": [
    "np.unique(prediction_optimized)"
   ]
  },
  {
   "cell_type": "code",
   "execution_count": null,
   "metadata": {},
   "outputs": [],
   "source": [
    "from sklearn.model_selection import train_test_split"
   ]
  },
  {
   "cell_type": "code",
   "execution_count": null,
   "metadata": {},
   "outputs": [],
   "source": [
    "labels = Data[17400]\n",
    "samples= Data.iloc[:, 0:17399]"
   ]
  },
  {
   "cell_type": "code",
   "execution_count": null,
   "metadata": {},
   "outputs": [],
   "source": [
    "train_samples, test_samples, train_labels, test_labels = train_test_split(samples, labels, test_size=0.20, stratify=labels, random_state=42)"
   ]
  },
  {
   "cell_type": "code",
   "execution_count": null,
   "metadata": {},
   "outputs": [],
   "source": [
    "train_samples_array = np.array(train_samples)\n",
    "train_labels_array = np.array(train_labels)\n",
    "\n",
    "test_samples_array = np.array(test_samples)\n",
    "test_labels_array = np.array(test_labels)"
   ]
  },
  {
   "cell_type": "code",
   "execution_count": null,
   "metadata": {},
   "outputs": [],
   "source": [
    "svm_model_base = svm.SVC()\n",
    "svm_model_base.fit(train_samples_array,train_labels_array)\n",
    "prediction_base = svm_model_base.predict(test_samples_array)"
   ]
  },
  {
   "cell_type": "code",
   "execution_count": null,
   "metadata": {
    "tags": []
   },
   "outputs": [],
   "source": [
    "cm = confusion_matrix(test_labels_array, prediction_base, normalize='true', labels=svm_model_base.classes_)\n",
    "\n",
    "plt.figure(figsize=(20, 16))\n",
    "sns.heatmap(cm, fmt='.2', annot=True,annot_kws={\"size\": 8}, xticklabels=svm_model_base.classes_, yticklabels=svm_model_base.classes_)\n",
    "plt.xlabel('Predicted Labels')\n",
    "plt.ylabel('True Labels')\n",
    "plt.title('Confusion Matrix')\n",
    "\n",
    "plt.show()"
   ]
  },
  {
   "cell_type": "code",
   "execution_count": null,
   "metadata": {},
   "outputs": [],
   "source": [
    "train_samples, test_samples, train_labels, test_labels = train_test_split(samples, labels, test_size=0.20, random_state=42)"
   ]
  },
  {
   "cell_type": "code",
   "execution_count": null,
   "metadata": {},
   "outputs": [],
   "source": [
    "train_samples_array = np.array(train_samples)\n",
    "train_labels_array = np.array(train_labels)\n",
    "\n",
    "test_samples_array = np.array(test_samples)\n",
    "test_labels_array = np.array(test_labels)"
   ]
  },
  {
   "cell_type": "code",
   "execution_count": null,
   "metadata": {},
   "outputs": [],
   "source": [
    "svm_model_base = svm.SVC()\n",
    "svm_model_base.fit(train_samples_array,train_labels_array)\n",
    "prediction_base = svm_model_base.predict(test_samples_array)"
   ]
  },
  {
   "cell_type": "code",
   "execution_count": null,
   "metadata": {},
   "outputs": [],
   "source": [
    "cm = confusion_matrix(test_labels_array, prediction_base, normalize='true', labels=svm_model_base.classes_)\n",
    "\n",
    "plt.figure(figsize=(20, 16))\n",
    "sns.heatmap(cm, fmt='.2', annot=True,annot_kws={\"size\": 8}, xticklabels=svm_model_base.classes_, yticklabels=svm_model_base.classes_)\n",
    "plt.xlabel('Predicted Labels')\n",
    "plt.ylabel('True Labels')\n",
    "plt.title('Confusion Matrix')\n",
    "\n",
    "plt.show()"
   ]
  },
  {
   "cell_type": "code",
   "execution_count": null,
   "metadata": {
    "collapsed": false,
    "jupyter": {
     "outputs_hidden": false
    },
    "pycharm": {
     "name": "#%%\n"
    }
   },
   "outputs": [],
   "source": [
    "# creating grid\n",
    "\n",
    "param_grid = [{'class_weight': [None, 'balanced'], 'C':[0.5, 1, 10, 100], 'gamma': ['scale', 1, 0.1, 0.01, 0.001, 0.0001],'kernel': ['linear','rbf'], 'decision_function_shape': ['ovo','ovr']}]"
   ]
  },
  {
   "cell_type": "code",
   "execution_count": null,
   "metadata": {
    "collapsed": false,
    "jupyter": {
     "outputs_hidden": false
    },
    "pycharm": {
     "name": "#%%\n"
    }
   },
   "outputs": [],
   "source": [
    "# grid search\n",
    "\n",
    "\n",
    "optimal_params = GridSearchCV(svm.SVC(), param_grid, cv=5, scoring='accuracy', verbose=0)\n",
    "\n",
    "optimization = optimal_params.fit(train_samples_array, train_labels_array)\n"
   ]
  },
  {
   "cell_type": "code",
   "execution_count": null,
   "metadata": {
    "collapsed": false,
    "jupyter": {
     "outputs_hidden": false
    },
    "pycharm": {
     "name": "#%%\n"
    }
   },
   "outputs": [],
   "source": [
    "print(optimal_params.best_params_)"
   ]
  },
  {
   "cell_type": "code",
   "execution_count": null,
   "metadata": {},
   "outputs": [],
   "source": [
    "\n",
    "C_ = optimal_params.best_params_.get('C')\n",
    "dfs_ = optimal_params.best_params_.get('decision_function_shape')\n",
    "gamma_ = optimal_params.best_params_.get('gamma')\n",
    "kernel_ = optimal_params.best_params_.get('kernel')\n",
    "weight_ = optimal_params.best_params_.get('class_weight')"
   ]
  },
  {
   "cell_type": "code",
   "execution_count": null,
   "metadata": {},
   "outputs": [],
   "source": [
    "# train the model with the optimal values\n",
    "svm_model_optimized = svm.SVC(C=C_, class_weight=weight_, decision_function_shape=dfs_, gamma=gamma_, kernel=kernel_)\n",
    "svm_model_optimized.fit(train_samples_array,train_labels_array)"
   ]
  },
  {
   "cell_type": "code",
   "execution_count": null,
   "metadata": {},
   "outputs": [],
   "source": [
    "prediction_optimized = svm_model_base.predict(test_samples_array)"
   ]
  },
  {
   "cell_type": "code",
   "execution_count": null,
   "metadata": {},
   "outputs": [],
   "source": [
    "cm = confusion_matrix(test_labels_array, prediction_base, normalize='true', labels=svm_model_base.classes_)\n",
    "\n",
    "plt.figure(figsize=(20, 16))\n",
    "sns.heatmap(cm, fmt='.2', annot=True,annot_kws={\"size\": 8}, xticklabels=svm_model_base.classes_, yticklabels=svm_model_base.classes_)\n",
    "plt.xlabel('Predicted Labels')\n",
    "plt.ylabel('True Labels')\n",
    "plt.title('Confusion Matrix')\n",
    "\n",
    "plt.show()"
   ]
  },
  {
   "cell_type": "code",
   "execution_count": null,
   "metadata": {},
   "outputs": [],
   "source": []
  }
 ],
 "metadata": {
  "kernelspec": {
   "display_name": "Python 3 (ipykernel)",
   "language": "python",
   "name": "python3"
  },
  "language_info": {
   "codemirror_mode": {
    "name": "ipython",
    "version": 3
   },
   "file_extension": ".py",
   "mimetype": "text/x-python",
   "name": "python",
   "nbconvert_exporter": "python",
   "pygments_lexer": "ipython3",
   "version": "3.10.9"
  }
 },
 "nbformat": 4,
 "nbformat_minor": 4
}
