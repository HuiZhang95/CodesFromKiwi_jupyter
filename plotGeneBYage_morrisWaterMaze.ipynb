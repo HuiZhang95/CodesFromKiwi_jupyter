{
 "cells": [
  {
   "cell_type": "code",
   "execution_count": null,
   "id": "5d3addc0-b67d-40e2-ad9c-371e82139400",
   "metadata": {
    "tags": []
   },
   "outputs": [],
   "source": [
    "import pandas as pd\n",
    "import numpy as np\n",
    "import math\n",
    "import matplotlib.pyplot as plt\n",
    "import time\n",
    "import os\n",
    "import seaborn as sns"
   ]
  },
  {
   "cell_type": "code",
   "execution_count": null,
   "id": "24b99ec8-8f32-4285-973a-217bed692308",
   "metadata": {
    "tags": []
   },
   "outputs": [],
   "source": [
    "tmpFileName = 'F:\\\\project\\\\navigationParadigm\\\\MorrisMaze\\\\matlabCode\\\\R_code_fromEkin\\\\newstruct1.csv'\n",
    "fid = open(tmpFileName, 'r')\n",
    "#fid_text = pd.read_csv(fid, delimiter=',', header=None, low_memory=False)\n",
    "fid_text = pd.read_csv(fid, delimiter=',',low_memory=False)"
   ]
  },
  {
   "cell_type": "code",
   "execution_count": null,
   "id": "c96f7038-faac-402f-95dd-09212d346601",
   "metadata": {
    "tags": []
   },
   "outputs": [],
   "source": [
    "#print(fid_text)\n",
    "print(type(fid_text))\n",
    "print(fid_text.columns)\n",
    "print(fid_text.index)\n",
    "#print(fid_text.info)\n",
    "#print(fid_text.loc[:,'subj'])"
   ]
  },
  {
   "cell_type": "code",
   "execution_count": null,
   "id": "cf01a5a7-1238-421c-b2ff-38a1ea1143ef",
   "metadata": {
    "tags": []
   },
   "outputs": [],
   "source": [
    "subjNo_list = fid_text.loc[:,'subj']\n",
    "subjNoPool = np.unique(subjNo_list)\n",
    "print(len(subjNoPool))"
   ]
  },
  {
   "cell_type": "code",
   "execution_count": null,
   "id": "f07e97de-7b41-4114-a4e4-9504e8771732",
   "metadata": {
    "tags": []
   },
   "outputs": [],
   "source": [
    "# extract age and gene information of each participant\n",
    "data_tmp = np.full((len(subjNoPool),3),np.nan)\n",
    "for subjNo in range(len(subjNoPool)):\n",
    "    subjIdx = subjNoPool[subjNo]\n",
    "    item_index = np.where(subjNo_list==subjIdx)\n",
    "    #print(item_index)\n",
    "    gene_tmp = np.unique(fid_text.loc[item_index,'gene'])[0]\n",
    "    age_tmp = np.unique(fid_text.loc[item_index,'age'])[0]\n",
    "    value_tmp = np.nanmean(fid_text.loc[item_index,'dropError'])\n",
    "    #value_tmp = np.nanmedian(fid_text.loc[item_index,'dropError'])\n",
    "    #print([gene_tmp, age_tmp, value_tmp])\n",
    "    data_tmp[subjNo,:] = [gene_tmp, age_tmp, value_tmp]"
   ]
  },
  {
   "cell_type": "code",
   "execution_count": null,
   "id": "b9f3e4a0-8369-42a9-8599-9393e9d2e255",
   "metadata": {
    "tags": []
   },
   "outputs": [],
   "source": [
    "# plot data\n",
    "plotColor = [[0.3,0.8, 0.7],[0.7, 0.8, 0.3]]\n",
    "\n",
    "plt.clf()\n",
    "f1 = plt.figure()\n",
    "for geneNo in range(2):\n",
    "    tmp_idx = np.where(data_tmp[:,0] == geneNo+1)\n",
    "    tmpx = data_tmp[tmp_idx,1]\n",
    "    tmpy = data_tmp[tmp_idx,2]\n",
    "    tmpx1 = tmpx[0,:]\n",
    "    tmpy1 = tmpy[0,:]\n",
    "    print(tmpx1.shape)\n",
    "    m, b = np.polyfit(tmpx1, tmpy1, 1)\n",
    "    plt.plot(tmpx1,tmpy1, mfc=plotColor[geneNo], marker='o', ms=12, ls = '')\n",
    "    plt.plot(tmpx1, m*tmpx1+b, color=plotColor[geneNo],ls = '-',lw=2)\n",
    "    \n",
    "\n",
    "plt.show()"
   ]
  },
  {
   "cell_type": "code",
   "execution_count": null,
   "id": "7d8ef0c5-a591-4c21-8353-9f605a3a05ff",
   "metadata": {
    "tags": []
   },
   "outputs": [],
   "source": [
    "# plot under-estimation rations between carriers and non-carriers \n",
    "# 'distance_underEstimateRatio'\n",
    "data_tmp = np.full((len(subjNoPool),2),np.nan)\n",
    "for subjNo in range(len(subjNoPool)):\n",
    "    subjIdx = subjNoPool[subjNo]\n",
    "    item_index = np.where(subjNo_list==subjIdx)\n",
    "    #print(item_index)\n",
    "    gene_tmp = np.unique(fid_text.loc[item_index,'gene'])[0]\n",
    "    value_tmp = np.nanmean(fid_text.loc[item_index,'distance_underEstimateRatio'])\n",
    "    #value_tmp = np.nanmedian(fid_text.loc[item_index,'dropError'])\n",
    "    #print([gene_tmp, age_tmp, value_tmp])\n",
    "    data_tmp[subjNo,:] = [gene_tmp, value_tmp]\n"
   ]
  },
  {
   "cell_type": "code",
   "execution_count": null,
   "id": "a6dd3c76-cbd0-448a-af5b-630b8bc0e839",
   "metadata": {
    "tags": []
   },
   "outputs": [],
   "source": [
    "df = {'Under estimation ratio': data_tmp[:,1],'group':data_tmp[:,0]}\n",
    "plotColor = [[0.5,0.5, 0.9],[0.5, 0.9, 0.5]]\n",
    "axisAspect = 1\n",
    "fig_path = \"F:\\\\project\\\\navigationParadigm\\\\MorrisMaze\\\\materials\\\\manuscript\\\\figures\\\\OutputUsingPython\"\n",
    "fig_name = \"violinplot_underestimationratio\"\n",
    "saveFigure = os.path.join(fig_path+\"\\\\\"+fig_name)\n",
    "\n",
    "plt.clf\n",
    "f1 = plt.figure()\n",
    "plt.ylim(0,1.8)\n",
    "sns.violinplot(y=\"Under estimation ratio\",x=\"group\",data = df,widths = 0.5,palette = plotColor)\n",
    "#sns.stripplot(y=\"Under estimation ratio\",x=\"group\",data = df)\n",
    "sns.swarmplot(y=\"Under estimation ratio\",x=\"group\",data = df,color = 'blue')\n",
    "plt.xticks([0,1], ['APOE3/4','APOE3/3']) \n",
    "\n",
    "ax = plt.gca() #you first need to get the axis handle\n",
    "x_left, x_right = ax.get_xlim()\n",
    "y_low, y_high = ax.get_ylim()\n",
    "ax.set_aspect(abs((x_right-x_left)/(y_low-y_high))*axisAspect)\n",
    "\n",
    "# remove box\n",
    "ax.spines['top'].set_visible(False)\n",
    "ax.spines['right'].set_visible(False)\n",
    "\n",
    "for axis in ['bottom','left']:\n",
    "    ax.spines[axis].set_linewidth(1.5)\n",
    "\n",
    "    \n",
    "plt.savefig(saveFigure)\n",
    "\n",
    "plt.show() "
   ]
  },
  {
   "cell_type": "code",
   "execution_count": 292,
   "id": "122b4d16-033c-4e86-b45d-e1eae45979cc",
   "metadata": {
    "tags": []
   },
   "outputs": [],
   "source": [
    "# plot the distribution of under-estimation ratio across all trials of all subjects\n",
    "#seperately for APOE4 carriers and control subjects.\n",
    "bins = np.arange(0,2,0.05)\n",
    "binNoAll = len(bins)\n",
    "data_tmp = np.full((len(subjNoPool),binNoAll,2),np.nan)\n",
    "data_gene = np.full((len(subjNoPool),1),np.nan)\n",
    "for subjNo in range(len(subjNoPool)):\n",
    "    subjIdx = subjNoPool[subjNo]\n",
    "    item_index = np.where(subjNo_list==subjIdx)\n",
    "    #print(item_index)\n",
    "    data_gene[subjNo] = np.unique(fid_text.loc[item_index,'gene'])[0]\n",
    "    value_tmp = fid_text.loc[item_index,'distance_underEstimateRatio']\n",
    "    trialNoAll = len(value_tmp)\n",
    "    data_tmp[subjNo,0,0] = len(np.where(value_tmp==0)[0])\n",
    "    data_tmp[subjNo,0,1] = len(np.where(value_tmp==0)[0])*100/trialNoAll\n",
    "    value_tmp = list(filter(lambda x: x!= 0, value_tmp))\n",
    "    data_tmp[subjNo,1:,0] = np.histogram(value_tmp,bins)[0]\n",
    "    data_tmp[subjNo,1:,1] = np.histogram(value_tmp,bins)[0]*100/trialNoAll\n",
    "    "
   ]
  },
  {
   "cell_type": "code",
   "execution_count": 293,
   "id": "60455b8c-c2fe-4b6f-894a-ae676c29292f",
   "metadata": {
    "tags": []
   },
   "outputs": [],
   "source": [
    "from scipy.signal import savgol_filter"
   ]
  },
  {
   "cell_type": "code",
   "execution_count": 317,
   "id": "5227f2dc-5929-407c-a59e-6e56a250b66a",
   "metadata": {
    "tags": []
   },
   "outputs": [
    {
     "name": "stdout",
     "output_type": "stream",
     "text": [
      "0\n",
      "10\n",
      "20\n",
      "30\n",
      "40\n",
      "(40,)\n",
      "(40,)\n",
      "(105, 40, 2)\n",
      "(40,)\n",
      "(40,)\n",
      "(105, 40, 2)\n"
     ]
    },
    {
     "data": {
      "image/png": "[encoded data removed]",
      "text/plain": [
       "<Figure size 640x480 with 1 Axes>"
      ]
     },
     "metadata": {},
     "output_type": "display_data"
    }
   ],
   "source": [
    "# plot data\n",
    "\n",
    "plotColor = [[0.3,0.8, 0.7],[0.7, 0.8, 0.3]]\n",
    "varNames = ['dropError','distanceError','angleError']\n",
    "fig_path = \"F:\\\\project\\\\navigationParadigm\\\\MorrisMaze\\\\materials\\\\manuscript\\\\figures\\\\OutputUsingPython\"\n",
    "fig_name = \"under estimation ratio_distribution\"\n",
    "saveFigure = os.path.join(fig_path+\"\\\\\"+fig_name)\n",
    "xtick_text = []\n",
    "xtick_text.append('0')\n",
    "for tmpidx in range(binNoAll-1):\n",
    "    xtick_text.append(str(bins[tmpidx])[:3] + '_' + str(bins[tmpidx+1])[:3])\n",
    "xtick_num = np.array(np.linspace(0,binNoAll,5))\n",
    "xtick_num1 = []\n",
    "xtick_num_label = []\n",
    "for idx in xtick_num:\n",
    "    print(int(idx))\n",
    "    if idx<binNoAll:\n",
    "        xtick_num1.append(idx)\n",
    "        xtick_num_label.append(xtick_text[int(idx)])\n",
    "\n",
    "plt.clf\n",
    "f1 = plt.figure()\n",
    "\n",
    "tmpx = np.array(range(binNoAll))\n",
    "for geneNo in range(2):\n",
    "    tmp_idx = np.where(data_gene[:,0] == geneNo+1)[0]\n",
    "    data_tmp1 = np.squeeze(data_tmp[tmp_idx,:,1])\n",
    "    \n",
    "    tmpy = np.nanmean(data_tmp1,axis = 0)\n",
    "    tmpy = savgol_filter(tmpy,10,3)\n",
    "    print(tmpy.shape)\n",
    "    print(tmpx.shape)\n",
    "    print(data_tmp.shape)\n",
    "    tmp_se = np.nanstd(data_tmp1,axis = 0)/np.sqrt(len(tmp_idx))\n",
    "\n",
    "    plt.plot(tmpx[0],tmpy[0],'-',c = plotColor[geneNo], \n",
    "             lw = 2,mec = plotColor[geneNo], mfc=plotColor[geneNo])\n",
    "    plt.errorbar(tmpx[0],tmpy[0],tmp_se[0],\n",
    "                 label=None,c=plotColor[geneNo],ecolor=plotColor[geneNo],marker='.',ls='')\n",
    "    \n",
    "    plt.plot(tmpx[1:],tmpy[1:],ls = '-',color = plotColor[geneNo], lw = 2)\n",
    "    plt.fill_between(tmpx[1:],tmpy[1:]-tmp_se[1:],tmpy[1:]+tmp_se[1:], \n",
    "                             alpha = 0.5, edgecolor = plotColor[geneNo], \n",
    "                             facecolor = plotColor[geneNo],lw=1,ls='-')\n",
    "\n",
    "    \n",
    "plt.xticks(xtick_num1, xtick_num_label) \n",
    "ax = plt.gca() #you first need to get the axis handle\n",
    "x_left, x_right = ax.get_xlim()\n",
    "y_low, y_high = ax.get_ylim()\n",
    "ax.set_aspect(abs((x_right-x_left)/(y_low-y_high))*axisAspect)\n",
    "#plt.plot(np.full((10,1),binNoAll/2), np.array(np.linspace(7.5,15,10)),'k-',lw=2)\n",
    "plt.plot(np.full((10,1),binNoAll/2), np.array(np.linspace(2,6,10)),'k-',lw=2)\n",
    "\n",
    "# remove box\n",
    "ax.spines['top'].set_visible(False)\n",
    "ax.spines['right'].set_visible(False)\n",
    "\n",
    "for axis in ['bottom','left']:\n",
    "    ax.spines[axis].set_linewidth(1.5)\n",
    "    \n",
    "plt.savefig(saveFigure)\n",
    "plt.show()"
   ]
  },
  {
   "cell_type": "code",
   "execution_count": 318,
   "id": "b0f1b691-1749-4e3c-94b2-4a7e59dcd057",
   "metadata": {
    "tags": []
   },
   "outputs": [],
   "source": [
    "import scipy.stats as stats"
   ]
  },
  {
   "cell_type": "code",
   "execution_count": 319,
   "id": "3c383664-a753-437b-a8b0-35979082ee0b",
   "metadata": {
    "tags": []
   },
   "outputs": [],
   "source": [
    "# perform a two-samples t test between APOE4 carriers and non-carriers\n",
    "geneNo = 1\n",
    "tmp_idx = np.where(data_gene[:,0] == geneNo)[0]\n",
    "data_carriers = np.squeeze(data_tmp[tmp_idx,:,1])\n",
    "geneNo = 2\n",
    "tmp_idx = np.where(data_gene[:,0] == geneNo)[0]\n",
    "data_noncarriers = np.squeeze(data_tmp[tmp_idx,:,1])\n",
    "stats_results = stats.ttest_ind(data_carriers,data_noncarriers)\n"
   ]
  },
  {
   "cell_type": "code",
   "execution_count": 320,
   "id": "5ba9d21e-56c0-4652-9844-0532011819e5",
   "metadata": {
    "tags": []
   },
   "outputs": [
    {
     "name": "stdout",
     "output_type": "stream",
     "text": [
      "TtestResult(statistic=array([-1.37669548, -0.80551257, -1.0980928 , -2.10420969, -0.29648433,\n",
      "       -0.88106053, -1.76391253, -1.10486721, -2.3781777 , -1.24809502,\n",
      "       -0.7211919 , -1.47152231, -1.36986998, -0.29724162, -0.03593241,\n",
      "       -0.02404756,  2.06349453,  1.27259465,  1.06782236,  0.51143108,\n",
      "        1.96987335,  1.99575342,  0.56689493,  1.71021171,  1.07336763,\n",
      "        1.49159185,  1.78822595,  2.50298942,  0.41129645,  2.73542629,\n",
      "        0.39617064,  0.70966853,  0.82519325, -0.86282839,  2.07901176,\n",
      "        1.64113442,  0.4058691 , -0.16255266,  0.25473546,  1.10424455]), pvalue=array([0.17159158, 0.42237964, 0.27472431, 0.03779434, 0.76745724,\n",
      "       0.38033636, 0.08071169, 0.2717914 , 0.01924222, 0.21482607,\n",
      "       0.47242529, 0.14419868, 0.17370636, 0.76688069, 0.9714058 ,\n",
      "       0.9808612 , 0.04158014, 0.20602714, 0.288097  , 0.61014389,\n",
      "       0.051538  , 0.04860091, 0.57201892, 0.0902374 , 0.28561448,\n",
      "       0.13886263, 0.0766798 , 0.01388656, 0.68170971, 0.00733732,\n",
      "       0.69279866, 0.4795132 , 0.41116899, 0.39023641, 0.04010052,\n",
      "       0.10381972, 0.68568071, 0.87118914, 0.79943533, 0.27206006]), df=array([103., 103., 103., 103., 103., 103., 103., 103., 103., 103., 103.,\n",
      "       103., 103., 103., 103., 103., 103., 103., 103., 103., 103., 103.,\n",
      "       103., 103., 103., 103., 103., 103., 103., 103., 103., 103., 103.,\n",
      "       103., 103., 103., 103., 103., 103., 103.]))\n"
     ]
    }
   ],
   "source": [
    "print(stats_results)"
   ]
  },
  {
   "cell_type": "code",
   "execution_count": null,
   "id": "cac5f8c3-d629-4d3d-b648-404edeab4194",
   "metadata": {},
   "outputs": [],
   "source": []
  }
 ],
 "metadata": {
  "kernelspec": {
   "display_name": "Python 3 (ipykernel)",
   "language": "python",
   "name": "python3"
  },
  "language_info": {
   "codemirror_mode": {
    "name": "ipython",
    "version": 3
   },
   "file_extension": ".py",
   "mimetype": "text/x-python",
   "name": "python",
   "nbconvert_exporter": "python",
   "pygments_lexer": "ipython3",
   "version": "3.11.5"
  }
 },
 "nbformat": 4,
 "nbformat_minor": 5
}
