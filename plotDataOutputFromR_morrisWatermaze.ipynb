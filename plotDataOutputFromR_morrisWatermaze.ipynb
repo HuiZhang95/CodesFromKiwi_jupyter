{
 "cells": [
  {
   "cell_type": "code",
   "execution_count": 3,
   "id": "80e6c1e7-ae46-4449-b495-8711fb9b3148",
   "metadata": {
    "tags": []
   },
   "outputs": [],
   "source": [
    "import matplotlib.pyplot as plt\n",
    "import numpy as np \n",
    "import os\n",
    "\n",
    "# plot the interaction between age and gene\n",
    "import pandas as pd\n",
    "import numpy as np\n",
    "import math\n",
    "import matplotlib.pyplot as plt\n",
    "import time\n",
    "import os\n",
    "import seaborn as sns"
   ]
  },
  {
   "cell_type": "code",
   "execution_count": null,
   "id": "6028c9be-2da8-4b63-ae27-90239dd7d879",
   "metadata": {
    "tags": []
   },
   "outputs": [],
   "source": [
    "def barPlot_2by2(x, y1, y2, y1_error, y2_error, barWidth, \\\n",
    "                 y1_color, y2_color,errorBar_color,xtick_text, \\\n",
    "                xlabel_text, ylabel_text, legendLabel,title_text,\\\n",
    "                axisAspect,saveFigure):\n",
    "    \n",
    "    halfBarWidth = barWidth/2\n",
    "    plt.clf()\n",
    "    f1 = plt.figure()\n",
    "    plt.bar(x-halfBarWidth, y1, width, color=y1_color,lw=2) \n",
    "    plt.bar(x+halfBarWidth, y2, width, color=y2_color,lw=2) \n",
    "    plt.errorbar(x-halfBarWidth, y1, y1_error, label=None,ecolor=errorBar_color,marker='.',ls='')\n",
    "    plt.errorbar(x+halfBarWidth, y2, y2_error, label=None,ecolor=errorBar_color,marker='.',ls='')\n",
    "    plt.xticks(x, xtick_text) \n",
    "    plt.xlabel(xlabel_text) \n",
    "    plt.ylabel(ylabel_text) \n",
    "    plt.legend(legendLabel) \n",
    "    plt.title(title_text)\n",
    "    \n",
    "    ax = plt.gca() #you first need to get the axis handle\n",
    "    x_left, x_right = ax.get_xlim()\n",
    "    y_low, y_high = ax.get_ylim()\n",
    "    ax.set_aspect(abs((x_right-x_left)/(y_low-y_high))*axisAspect)\n",
    "    \n",
    "    # remove box\n",
    "    ax.spines['top'].set_visible(False)\n",
    "    ax.spines['right'].set_visible(False)\n",
    "    \n",
    "    for axis in ['bottom','left']:\n",
    "        ax.spines[axis].set_linewidth(1.5)\n",
    "    \n",
    "    plt.savefig(saveFigure)\n",
    "    \n",
    "    plt.show() "
   ]
  },
  {
   "cell_type": "code",
   "execution_count": null,
   "id": "47ed207e-60a6-4efd-bcb4-f9c991bf869b",
   "metadata": {
    "tags": []
   },
   "outputs": [],
   "source": [
    "#check interaction effects between gene and gender\n",
    "\n",
    "dropError_geneBYgender = []\n",
    "dropError_geneBYgender.append({'male_mean': np.array([9.22, 6.82]),\n",
    "                'female_mean': np.array([7.82, 9.23]),\n",
    "                'male_se': np.array([0.579, 0.535]),\n",
    "                'female_se': np.array([0.431, 0.258])})\n",
    "\n",
    "distanceError_geneBYgender = []\n",
    "distanceError_geneBYgender.append({'male_mean': np.array([4.73, 4.06]),\n",
    "                'female_mean': np.array([4.87, 5.85]),\n",
    "                'male_se': np.array([0.459, 0.424]),\n",
    "                'female_se': np.array([0.342, 0.205])})\n",
    "\n",
    "angleError_geneBYgender = []\n",
    "angleError_geneBYgender.append({'male_mean': np.array([44.7, 30.4]),\n",
    "                'female_mean': np.array([36.3, 45.3]),\n",
    "                'male_se': np.array([4.02, 3.82]),\n",
    "                'female_se': np.array([2.99, 1.79])})\n",
    "\n",
    "tmp_data = []\n",
    "tmp_data.append({'dropError_geneBYgender': dropError_geneBYgender,\n",
    "                'distanceError_geneBYgender': distanceError_geneBYgender,\n",
    "                'angleError_geneBYgender': angleError_geneBYgender})\n",
    "\n",
    "fig_path = \"F:\\\\project\\\\navigationParadigm\\\\MorrisMaze\\\\materials\\\\manuscript\\\\figures\\\\OutputUsingPython\"\n",
    "variableName = ['dropError','distanceError', 'angleError']\n",
    "width = 0.40\n",
    "y1_color = [0,0.5, 0.7]\n",
    "y2_color = [0.8, 0.3, 0]\n",
    "errorBar_color = 'k'\n",
    "xtick_text = ['APOE4', 'APOE3/4']\n",
    "xlabel_text = \" \"\n",
    "legendLabel = [\"Male\", \"female\"]\n",
    "title_text = \"gene by gender\"\n",
    "axisAspect = 1\n",
    "ylabelTextAll = ['drop error (uv)','distance error (uv)', 'angle error (deg)']\n",
    "\n",
    "for varNo in range(len(variableName)):\n",
    "    tmpVarName = variableName[varNo]\n",
    "    tmp1 = tmp_data[0][tmpVarName+'_geneBYgender']\n",
    "    x = np.arange(2) \n",
    "    y1 = tmp1[0]['male_mean']\n",
    "    y2 = tmp1[0]['female_mean']\n",
    "    y1_error = tmp1[0]['male_se']\n",
    "    y2_error = tmp1[0]['female_se']\n",
    "    \n",
    "    ylabel_text = ylabelTextAll[varNo]\n",
    "    fig_name = tmpVarName + '_geneBYgender.png'\n",
    "    saveFigure = os.path.join(fig_path+\"\\\\\"+fig_name)\n",
    "    \n",
    "    f1 = barPlot_2by2(x, y1, y2, y1_error, y2_error, width, \\\n",
    "                     y1_color, y2_color,errorBar_color,xtick_text, \\\n",
    "                    xlabel_text, ylabel_text, legendLabel,title_text,\\\n",
    "                axisAspect,saveFigure)"
   ]
  },
  {
   "cell_type": "code",
   "execution_count": null,
   "id": "1cfcea52-9a44-4f11-b834-239e209aad5d",
   "metadata": {
    "tags": []
   },
   "outputs": [],
   "source": [
    "#check interaction effects between gene and age\n",
    "\n",
    "dropError_geneBYage = []\n",
    "dropError_geneBYage.append({'male_mean': np.array([6.92, 6.36]),\n",
    "                'female_mean': np.array([10.11, 10.07]),\n",
    "                'male_se': np.array([0.542, 0.490]),\n",
    "                'female_se': np.array([0.550, 0.351])})\n",
    "\n",
    "distanceError_geneBYage = []\n",
    "distanceError_geneBYage.append({'male_mean': np.array([3.69, 3.63]),\n",
    "                'female_mean': np.array([5.94, 6.59]),\n",
    "                'male_se': np.array([0.422, 0.381]),\n",
    "                'female_se': np.array([0.428, 0.273])})\n",
    "\n",
    "angleError_geneBYage = []\n",
    "angleError_geneBYage.append({'male_mean': np.array([30.9, 28.5]),\n",
    "                'female_mean': np.array([51.2, 52.0]),\n",
    "                'male_se': np.array([3.65, 3.30]),\n",
    "                'female_se': np.array([3.71, 2.38])})\n",
    "\n",
    "tmp_data = []\n",
    "tmp_data.append({'dropError_geneBYage': dropError_geneBYage,\n",
    "                'distanceError_geneBYage': distanceError_geneBYage,\n",
    "                'angleError_geneBYage': angleError_geneBYage})\n",
    "\n",
    "\n",
    "fig_path = \"F:\\\\project\\\\navigationParadigm\\\\MorrisMaze\\\\materials\\\\manuscript\\\\figures\\\\OutputUsingPython\"\n",
    "variableName = ['dropError','distanceError', 'angleError']\n",
    "width = 0.40\n",
    "y1_color = [0.3,0.8, 0.7]\n",
    "y2_color = [0.7, 0.8, 0.3]\n",
    "errorBar_color = 'k'\n",
    "xtick_text = ['APOE4', 'APOE3/4']\n",
    "xlabel_text = \" \"\n",
    "legendLabel = [\"young\", \"old\"]\n",
    "title_text = \"gene by age\"\n",
    "axisAspect = 1\n",
    "ylabelTextAll = ['drop error (uv)','distance error (uv)', 'angle error (deg)']\n",
    "\n",
    "\n",
    "for varNo in range(len(variableName)):\n",
    "    tmpVarName = variableName[varNo]\n",
    "    tmp1 = tmp_data[0][tmpVarName+'_geneBYage']\n",
    "    x = np.arange(2) \n",
    "    y1 = tmp1[0]['male_mean']\n",
    "    y2 = tmp1[0]['female_mean']\n",
    "    y1_error = tmp1[0]['male_se']\n",
    "    y2_error = tmp1[0]['female_se']\n",
    "    \n",
    "    ylabel_text = ylabelTextAll[varNo]\n",
    "    fig_name = tmpVarName + '_geneBYage.png'\n",
    "    saveFigure = os.path.join(fig_path+\"\\\\\"+fig_name)\n",
    "    \n",
    "    f1 = barPlot_2by2(x, y1, y2, y1_error, y2_error, width, \\\n",
    "                     y1_color, y2_color,errorBar_color,xtick_text, \\\n",
    "                    xlabel_text, ylabel_text, legendLabel,title_text,\\\n",
    "                axisAspect,saveFigure)"
   ]
  },
  {
   "cell_type": "code",
   "execution_count": 118,
   "id": "d5ca375e-83ca-49cc-9bb6-c251ef43bbe9",
   "metadata": {
    "tags": []
   },
   "outputs": [],
   "source": [
    "# plot the interaction between age and gene\n",
    "import pandas as pd\n",
    "import numpy as np\n",
    "import math\n",
    "import matplotlib.pyplot as plt\n",
    "import time\n",
    "import os\n",
    "import seaborn as sns"
   ]
  },
  {
   "cell_type": "code",
   "execution_count": 119,
   "id": "e322bdc7-f5f5-48a7-af9c-1d5b5462a66f",
   "metadata": {
    "tags": []
   },
   "outputs": [],
   "source": [
    "# plot the interaction between age and gene\n",
    "fileName = \"F:\\\\project\\\\navigationParadigm\\\\MorrisMaze\\\\materials\\\\manuscript\\\\figures\\\\OutputUsingPython\\\\ageBYgene_fitteddata.csv\"\n",
    "fid = open(fileName, 'r')\n",
    "#fid_text = pd.read_csv(fid, delimiter=',', header=None, low_memory=False)\n",
    "fid_text = pd.read_csv(fid, low_memory=False)"
   ]
  },
  {
   "cell_type": "code",
   "execution_count": 120,
   "id": "b2943331-f42a-4577-8857-36e57efb8299",
   "metadata": {
    "tags": []
   },
   "outputs": [
    {
     "name": "stdout",
     "output_type": "stream",
     "text": [
      "<class 'pandas.core.frame.DataFrame'>\n",
      "Index(['Unnamed: 0', 'age', 'gene', 'dropError', 'se_dropError',\n",
      "       'distanceError', 'se_distanceError', 'angleError', 'se_angleError'],\n",
      "      dtype='object')\n",
      "RangeIndex(start=0, stop=10, step=1)\n"
     ]
    }
   ],
   "source": [
    "print(type(fid_text))\n",
    "print(fid_text.columns)\n",
    "print(fid_text.index)"
   ]
  },
  {
   "cell_type": "code",
   "execution_count": 127,
   "id": "0a71e83e-cf02-4023-a722-a5e8bfa64fa9",
   "metadata": {
    "tags": []
   },
   "outputs": [
    {
     "name": "stdout",
     "output_type": "stream",
     "text": [
      "(array([0, 2, 4, 6, 8], dtype=int64),)\n",
      "(array([1, 3, 5, 7, 9], dtype=int64),)\n",
      "(array([0, 2, 4, 6, 8], dtype=int64),)\n",
      "(array([1, 3, 5, 7, 9], dtype=int64),)\n",
      "(array([0, 2, 4, 6, 8], dtype=int64),)\n",
      "(array([1, 3, 5, 7, 9], dtype=int64),)\n"
     ]
    },
    {
     "data": {
      "text/plain": [
       "<Figure size 640x480 with 0 Axes>"
      ]
     },
     "metadata": {},
     "output_type": "display_data"
    },
    {
     "data": {
      "image/png": "[encoded data removed]",
      "text/plain": [
       "<Figure size 640x480 with 3 Axes>"
      ]
     },
     "metadata": {},
     "output_type": "display_data"
    }
   ],
   "source": [
    "plotColor = [[0.3,0.8, 0.7],[0.7, 0.8, 0.3]]\n",
    "varNames = ['dropError','distanceError','angleError']\n",
    "fig_path = \"F:\\\\project\\\\navigationParadigm\\\\MorrisMaze\\\\materials\\\\manuscript\\\\figures\\\\OutputUsingPython\"\n",
    "fig_name = \"gene by age\"\n",
    "saveFigure = os.path.join(fig_path+\"\\\\\"+fig_name)\n",
    "\n",
    "plt.clf()\n",
    "fig,axs = plt.subplots(1,3)\n",
    "\n",
    "for varNo in range(len(varNames)):\n",
    "    var_tmp = varNames[varNo]\n",
    "    for geneNo in range(2):\n",
    "        tmp_idx = np.where(fid_text.loc[:,'gene'] == geneNo+1)\n",
    "        #print(tmp_idx)\n",
    "        tmp_age = fid_text.loc[tmp_idx,'age']\n",
    "        tmpy = fid_text.loc[tmp_idx,var_tmp]\n",
    "        tmp_se = fid_text.loc[tmp_idx,'se_'+var_tmp]\n",
    "\n",
    "        axs[varNo].plot(tmp_age,tmpy,ls = '-',color = plotColor[geneNo], lw = 2)\n",
    "        axs[varNo].fill_between(tmp_age,tmpy-tmp_se,tmpy+tmp_se, \n",
    "                                 alpha = 0.5, edgecolor = plotColor[geneNo], \n",
    "                                 facecolor = plotColor[geneNo],lw=1,ls='--')\n",
    "        x_left, x_right = axs[varNo].get_xlim()\n",
    "        y_low, y_high = axs[varNo].get_ylim()\n",
    "        axs[varNo].set_aspect(abs((x_right-x_left)/(y_low-y_high))*axisAspect)\n",
    "\n",
    "        # remove box\n",
    "        axs[varNo].spines['top'].set_visible(False)\n",
    "        axs[varNo].spines['right'].set_visible(False)\n",
    "\n",
    "        for axis in ['bottom','left']:\n",
    "            axs[varNo].spines[axis].set_linewidth(1.5)\n",
    "\n",
    "    \n",
    "plt.savefig(saveFigure)\n",
    "plt.show()"
   ]
  },
  {
   "cell_type": "code",
   "execution_count": 9,
   "id": "40d8fd7d-e64b-449b-b885-e4fa198c4613",
   "metadata": {},
   "outputs": [],
   "source": [
    "# plot the age effect of response latency of item memory\n",
    "fileName = \"F:\\\\project\\\\navigationParadigm\\\\MorrisMaze\\\\materials\\\\manuscript\\\\figures\\\\OutputUsingPython\\\\age_RT_itemMemory_fitteddata.csv\"\n",
    "fid = open(fileName, 'r')\n",
    "#fid_text = pd.read_csv(fid, delimiter=',', header=None, low_memory=False)\n",
    "fid_text = pd.read_csv(fid, low_memory=False)"
   ]
  },
  {
   "cell_type": "code",
   "execution_count": 10,
   "id": "1a2f9b38-a0b3-4dca-a01a-33fe7e261c9b",
   "metadata": {
    "tags": []
   },
   "outputs": [
    {
     "name": "stdout",
     "output_type": "stream",
     "text": [
      "<class 'pandas.core.frame.DataFrame'>\n",
      "Index(['Unnamed: 0', 'age', 'fit', 'se', 'lower', 'upper'], dtype='object')\n",
      "RangeIndex(start=0, stop=5, step=1)\n"
     ]
    }
   ],
   "source": [
    "print(type(fid_text))\n",
    "print(fid_text.columns)\n",
    "print(fid_text.index)"
   ]
  },
  {
   "cell_type": "code",
   "execution_count": 12,
   "id": "a096d3a6-4b2e-453f-9149-db16d85db70e",
   "metadata": {
    "tags": []
   },
   "outputs": [
    {
     "data": {
      "image/png": "[encoded data removed]",
      "text/plain": [
       "<Figure size 640x480 with 1 Axes>"
      ]
     },
     "metadata": {},
     "output_type": "display_data"
    }
   ],
   "source": [
    "plotColor = [[0.3,0.8, 0.7],[0.7, 0.8, 0.3]]\n",
    "varNames = ['dropError','distanceError','angleError']\n",
    "fig_path = \"F:\\\\project\\\\navigationParadigm\\\\MorrisMaze\\\\materials\\\\manuscript\\\\figures\\\\OutputUsingPython\"\n",
    "fig_name = \"age RT of item memory\"\n",
    "saveFigure = os.path.join(fig_path+\"\\\\\"+fig_name)\n",
    "axisAspect = 1\n",
    "\n",
    "plt.clf\n",
    "f1 = plt.figure()\n",
    "tmp_age = fid_text.loc[:,'age']\n",
    "tmpy = fid_text.loc[:,'fit']\n",
    "tmp_low = fid_text.loc[:,'lower']\n",
    "tmp_up = fid_text.loc[:,'upper']\n",
    "\n",
    "plt.plot(tmp_age,tmpy,ls = '-',color = 'k', lw = 2)\n",
    "plt.fill_between(tmp_age,tmp_low,tmp_up, \n",
    "                        alpha = 0.5, edgecolor = 'k', \n",
    "                        facecolor = 'k',lw=1,ls='--')\n",
    "\n",
    "ax = plt.gca() #you first need to get the axis handle\n",
    "x_left, x_right = ax.get_xlim()\n",
    "y_low, y_high = ax.get_ylim()\n",
    "ax.set_aspect(abs((x_right-x_left)/(y_low-y_high))*axisAspect)\n",
    "\n",
    "# remove box\n",
    "ax.spines['top'].set_visible(False)\n",
    "ax.spines['right'].set_visible(False)\n",
    "\n",
    "for axis in ['bottom','left']:\n",
    "    ax.spines[axis].set_linewidth(2.5)\n",
    "\n",
    "    \n",
    "plt.savefig(saveFigure)\n",
    "plt.show()\n"
   ]
  },
  {
   "cell_type": "code",
   "execution_count": null,
   "id": "f45b0733-cfc2-40b9-8e97-3c2dc10e33cd",
   "metadata": {},
   "outputs": [],
   "source": []
  }
 ],
 "metadata": {
  "kernelspec": {
   "display_name": "Python 3 (ipykernel)",
   "language": "python",
   "name": "python3"
  },
  "language_info": {
   "codemirror_mode": {
    "name": "ipython",
    "version": 3
   },
   "file_extension": ".py",
   "mimetype": "text/x-python",
   "name": "python",
   "nbconvert_exporter": "python",
   "pygments_lexer": "ipython3",
   "version": "3.11.5"
  }
 },
 "nbformat": 4,
 "nbformat_minor": 5
}
