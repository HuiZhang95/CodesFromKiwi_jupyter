{
 "cells": [
  {
   "cell_type": "code",
   "execution_count": 1,
   "id": "558e3f79-16e3-48c5-b1b1-c4857a4b1838",
   "metadata": {
    "tags": []
   },
   "outputs": [],
   "source": [
    "import numpy as np\n",
    "import pandas as pd\n",
    "import os\n",
    "import glob\n",
    "import shutil\n",
    "from tensorflow import keras\n",
    "import matplotlib.pyplot as plt\n",
    "from matplotlib.ticker import MultipleLocator\n",
    "from keras.layers import Dense, LSTM\n",
    "from keras.models import Sequential\n",
    "from keras.layers import Masking\n",
    "import keras_tuner as kt\n",
    "from pathlib import Path\n",
    "import joblib # for saving and loading variables\n",
    "import io\n",
    "import contextlib\n",
    "from sklearn.metrics import confusion_matrix\n",
    "import seaborn as sns"
   ]
  },
  {
   "cell_type": "code",
   "execution_count": 2,
   "id": "1e50813d-851b-416d-bc39-bd60f1075c62",
   "metadata": {},
   "outputs": [
    {
     "name": "stdout",
     "output_type": "stream",
     "text": [
      "C:\\Users\\ilkele4s\n"
     ]
    }
   ],
   "source": [
    "data_path = Path('C:/Users/ilkele4s/')\n",
    "print(data_path)"
   ]
  },
  {
   "cell_type": "code",
   "execution_count": null,
   "id": "75d845a0-70a7-40ea-8a31-668f223ec550",
   "metadata": {
    "tags": []
   },
   "outputs": [],
   "source": [
    "File = 'LSTM_data.csv'\n",
    "data = os.path.join(data_path,File)"
   ]
  },
  {
   "cell_type": "code",
   "execution_count": null,
   "id": "681e6e06-1a35-40fd-8809-19f222047aac",
   "metadata": {},
   "outputs": [],
   "source": [
    "os.mkdir(os.path.join(data_path,'New_LSTM_comp_results'))"
   ]
  },
  {
   "cell_type": "code",
   "execution_count": null,
   "id": "c073be89-7424-4d5c-a77f-132f52bb5842",
   "metadata": {},
   "outputs": [],
   "source": [
    "NewDirectory = os.path.join(data_path,'New_LSTM_comp_results')"
   ]
  },
  {
   "cell_type": "code",
   "execution_count": 6,
   "id": "598a74dd-889c-430c-bb61-d1730ec5fcd8",
   "metadata": {
    "tags": []
   },
   "outputs": [
    {
     "ename": "FileNotFoundError",
     "evalue": "[Errno 2] No such file or directory: 'C:\\\\Users\\\\ilkele4s\\\\LSTM_data.csv'",
     "output_type": "error",
     "traceback": [
      "\u001b[1;31m---------------------------------------------------------------------------\u001b[0m",
      "\u001b[1;31mFileNotFoundError\u001b[0m                         Traceback (most recent call last)",
      "Cell \u001b[1;32mIn[6], line 2\u001b[0m\n\u001b[0;32m      1\u001b[0m \u001b[38;5;66;03m# load the data (samples only)\u001b[39;00m\n\u001b[1;32m----> 2\u001b[0m data_samples \u001b[38;5;241m=\u001b[39m \u001b[43mpd\u001b[49m\u001b[38;5;241;43m.\u001b[39;49m\u001b[43mread_csv\u001b[49m\u001b[43m(\u001b[49m\u001b[43mdata\u001b[49m\u001b[43m,\u001b[49m\u001b[43m \u001b[49m\u001b[43mheader\u001b[49m\u001b[43m \u001b[49m\u001b[38;5;241;43m=\u001b[39;49m\u001b[43m \u001b[49m\u001b[38;5;28;43;01mNone\u001b[39;49;00m\u001b[43m)\u001b[49m\n",
      "File \u001b[1;32m~\\AppData\\Local\\anaconda3\\lib\\site-packages\\pandas\\util\\_decorators.py:211\u001b[0m, in \u001b[0;36mdeprecate_kwarg.<locals>._deprecate_kwarg.<locals>.wrapper\u001b[1;34m(*args, **kwargs)\u001b[0m\n\u001b[0;32m    209\u001b[0m     \u001b[38;5;28;01melse\u001b[39;00m:\n\u001b[0;32m    210\u001b[0m         kwargs[new_arg_name] \u001b[38;5;241m=\u001b[39m new_arg_value\n\u001b[1;32m--> 211\u001b[0m \u001b[38;5;28;01mreturn\u001b[39;00m func(\u001b[38;5;241m*\u001b[39margs, \u001b[38;5;241m*\u001b[39m\u001b[38;5;241m*\u001b[39mkwargs)\n",
      "File \u001b[1;32m~\\AppData\\Local\\anaconda3\\lib\\site-packages\\pandas\\util\\_decorators.py:331\u001b[0m, in \u001b[0;36mdeprecate_nonkeyword_arguments.<locals>.decorate.<locals>.wrapper\u001b[1;34m(*args, **kwargs)\u001b[0m\n\u001b[0;32m    325\u001b[0m \u001b[38;5;28;01mif\u001b[39;00m \u001b[38;5;28mlen\u001b[39m(args) \u001b[38;5;241m>\u001b[39m num_allow_args:\n\u001b[0;32m    326\u001b[0m     warnings\u001b[38;5;241m.\u001b[39mwarn(\n\u001b[0;32m    327\u001b[0m         msg\u001b[38;5;241m.\u001b[39mformat(arguments\u001b[38;5;241m=\u001b[39m_format_argument_list(allow_args)),\n\u001b[0;32m    328\u001b[0m         \u001b[38;5;167;01mFutureWarning\u001b[39;00m,\n\u001b[0;32m    329\u001b[0m         stacklevel\u001b[38;5;241m=\u001b[39mfind_stack_level(),\n\u001b[0;32m    330\u001b[0m     )\n\u001b[1;32m--> 331\u001b[0m \u001b[38;5;28;01mreturn\u001b[39;00m func(\u001b[38;5;241m*\u001b[39margs, \u001b[38;5;241m*\u001b[39m\u001b[38;5;241m*\u001b[39mkwargs)\n",
      "File \u001b[1;32m~\\AppData\\Local\\anaconda3\\lib\\site-packages\\pandas\\io\\parsers\\readers.py:950\u001b[0m, in \u001b[0;36mread_csv\u001b[1;34m(filepath_or_buffer, sep, delimiter, header, names, index_col, usecols, squeeze, prefix, mangle_dupe_cols, dtype, engine, converters, true_values, false_values, skipinitialspace, skiprows, skipfooter, nrows, na_values, keep_default_na, na_filter, verbose, skip_blank_lines, parse_dates, infer_datetime_format, keep_date_col, date_parser, dayfirst, cache_dates, iterator, chunksize, compression, thousands, decimal, lineterminator, quotechar, quoting, doublequote, escapechar, comment, encoding, encoding_errors, dialect, error_bad_lines, warn_bad_lines, on_bad_lines, delim_whitespace, low_memory, memory_map, float_precision, storage_options)\u001b[0m\n\u001b[0;32m    935\u001b[0m kwds_defaults \u001b[38;5;241m=\u001b[39m _refine_defaults_read(\n\u001b[0;32m    936\u001b[0m     dialect,\n\u001b[0;32m    937\u001b[0m     delimiter,\n\u001b[1;32m   (...)\u001b[0m\n\u001b[0;32m    946\u001b[0m     defaults\u001b[38;5;241m=\u001b[39m{\u001b[38;5;124m\"\u001b[39m\u001b[38;5;124mdelimiter\u001b[39m\u001b[38;5;124m\"\u001b[39m: \u001b[38;5;124m\"\u001b[39m\u001b[38;5;124m,\u001b[39m\u001b[38;5;124m\"\u001b[39m},\n\u001b[0;32m    947\u001b[0m )\n\u001b[0;32m    948\u001b[0m kwds\u001b[38;5;241m.\u001b[39mupdate(kwds_defaults)\n\u001b[1;32m--> 950\u001b[0m \u001b[38;5;28;01mreturn\u001b[39;00m \u001b[43m_read\u001b[49m\u001b[43m(\u001b[49m\u001b[43mfilepath_or_buffer\u001b[49m\u001b[43m,\u001b[49m\u001b[43m \u001b[49m\u001b[43mkwds\u001b[49m\u001b[43m)\u001b[49m\n",
      "File \u001b[1;32m~\\AppData\\Local\\anaconda3\\lib\\site-packages\\pandas\\io\\parsers\\readers.py:605\u001b[0m, in \u001b[0;36m_read\u001b[1;34m(filepath_or_buffer, kwds)\u001b[0m\n\u001b[0;32m    602\u001b[0m _validate_names(kwds\u001b[38;5;241m.\u001b[39mget(\u001b[38;5;124m\"\u001b[39m\u001b[38;5;124mnames\u001b[39m\u001b[38;5;124m\"\u001b[39m, \u001b[38;5;28;01mNone\u001b[39;00m))\n\u001b[0;32m    604\u001b[0m \u001b[38;5;66;03m# Create the parser.\u001b[39;00m\n\u001b[1;32m--> 605\u001b[0m parser \u001b[38;5;241m=\u001b[39m TextFileReader(filepath_or_buffer, \u001b[38;5;241m*\u001b[39m\u001b[38;5;241m*\u001b[39mkwds)\n\u001b[0;32m    607\u001b[0m \u001b[38;5;28;01mif\u001b[39;00m chunksize \u001b[38;5;129;01mor\u001b[39;00m iterator:\n\u001b[0;32m    608\u001b[0m     \u001b[38;5;28;01mreturn\u001b[39;00m parser\n",
      "File \u001b[1;32m~\\AppData\\Local\\anaconda3\\lib\\site-packages\\pandas\\io\\parsers\\readers.py:1442\u001b[0m, in \u001b[0;36mTextFileReader.__init__\u001b[1;34m(self, f, engine, **kwds)\u001b[0m\n\u001b[0;32m   1439\u001b[0m     \u001b[38;5;28mself\u001b[39m\u001b[38;5;241m.\u001b[39moptions[\u001b[38;5;124m\"\u001b[39m\u001b[38;5;124mhas_index_names\u001b[39m\u001b[38;5;124m\"\u001b[39m] \u001b[38;5;241m=\u001b[39m kwds[\u001b[38;5;124m\"\u001b[39m\u001b[38;5;124mhas_index_names\u001b[39m\u001b[38;5;124m\"\u001b[39m]\n\u001b[0;32m   1441\u001b[0m \u001b[38;5;28mself\u001b[39m\u001b[38;5;241m.\u001b[39mhandles: IOHandles \u001b[38;5;241m|\u001b[39m \u001b[38;5;28;01mNone\u001b[39;00m \u001b[38;5;241m=\u001b[39m \u001b[38;5;28;01mNone\u001b[39;00m\n\u001b[1;32m-> 1442\u001b[0m \u001b[38;5;28mself\u001b[39m\u001b[38;5;241m.\u001b[39m_engine \u001b[38;5;241m=\u001b[39m \u001b[38;5;28;43mself\u001b[39;49m\u001b[38;5;241;43m.\u001b[39;49m\u001b[43m_make_engine\u001b[49m\u001b[43m(\u001b[49m\u001b[43mf\u001b[49m\u001b[43m,\u001b[49m\u001b[43m \u001b[49m\u001b[38;5;28;43mself\u001b[39;49m\u001b[38;5;241;43m.\u001b[39;49m\u001b[43mengine\u001b[49m\u001b[43m)\u001b[49m\n",
      "File \u001b[1;32m~\\AppData\\Local\\anaconda3\\lib\\site-packages\\pandas\\io\\parsers\\readers.py:1735\u001b[0m, in \u001b[0;36mTextFileReader._make_engine\u001b[1;34m(self, f, engine)\u001b[0m\n\u001b[0;32m   1733\u001b[0m     \u001b[38;5;28;01mif\u001b[39;00m \u001b[38;5;124m\"\u001b[39m\u001b[38;5;124mb\u001b[39m\u001b[38;5;124m\"\u001b[39m \u001b[38;5;129;01mnot\u001b[39;00m \u001b[38;5;129;01min\u001b[39;00m mode:\n\u001b[0;32m   1734\u001b[0m         mode \u001b[38;5;241m+\u001b[39m\u001b[38;5;241m=\u001b[39m \u001b[38;5;124m\"\u001b[39m\u001b[38;5;124mb\u001b[39m\u001b[38;5;124m\"\u001b[39m\n\u001b[1;32m-> 1735\u001b[0m \u001b[38;5;28mself\u001b[39m\u001b[38;5;241m.\u001b[39mhandles \u001b[38;5;241m=\u001b[39m \u001b[43mget_handle\u001b[49m\u001b[43m(\u001b[49m\n\u001b[0;32m   1736\u001b[0m \u001b[43m    \u001b[49m\u001b[43mf\u001b[49m\u001b[43m,\u001b[49m\n\u001b[0;32m   1737\u001b[0m \u001b[43m    \u001b[49m\u001b[43mmode\u001b[49m\u001b[43m,\u001b[49m\n\u001b[0;32m   1738\u001b[0m \u001b[43m    \u001b[49m\u001b[43mencoding\u001b[49m\u001b[38;5;241;43m=\u001b[39;49m\u001b[38;5;28;43mself\u001b[39;49m\u001b[38;5;241;43m.\u001b[39;49m\u001b[43moptions\u001b[49m\u001b[38;5;241;43m.\u001b[39;49m\u001b[43mget\u001b[49m\u001b[43m(\u001b[49m\u001b[38;5;124;43m\"\u001b[39;49m\u001b[38;5;124;43mencoding\u001b[39;49m\u001b[38;5;124;43m\"\u001b[39;49m\u001b[43m,\u001b[49m\u001b[43m \u001b[49m\u001b[38;5;28;43;01mNone\u001b[39;49;00m\u001b[43m)\u001b[49m\u001b[43m,\u001b[49m\n\u001b[0;32m   1739\u001b[0m \u001b[43m    \u001b[49m\u001b[43mcompression\u001b[49m\u001b[38;5;241;43m=\u001b[39;49m\u001b[38;5;28;43mself\u001b[39;49m\u001b[38;5;241;43m.\u001b[39;49m\u001b[43moptions\u001b[49m\u001b[38;5;241;43m.\u001b[39;49m\u001b[43mget\u001b[49m\u001b[43m(\u001b[49m\u001b[38;5;124;43m\"\u001b[39;49m\u001b[38;5;124;43mcompression\u001b[39;49m\u001b[38;5;124;43m\"\u001b[39;49m\u001b[43m,\u001b[49m\u001b[43m \u001b[49m\u001b[38;5;28;43;01mNone\u001b[39;49;00m\u001b[43m)\u001b[49m\u001b[43m,\u001b[49m\n\u001b[0;32m   1740\u001b[0m \u001b[43m    \u001b[49m\u001b[43mmemory_map\u001b[49m\u001b[38;5;241;43m=\u001b[39;49m\u001b[38;5;28;43mself\u001b[39;49m\u001b[38;5;241;43m.\u001b[39;49m\u001b[43moptions\u001b[49m\u001b[38;5;241;43m.\u001b[39;49m\u001b[43mget\u001b[49m\u001b[43m(\u001b[49m\u001b[38;5;124;43m\"\u001b[39;49m\u001b[38;5;124;43mmemory_map\u001b[39;49m\u001b[38;5;124;43m\"\u001b[39;49m\u001b[43m,\u001b[49m\u001b[43m \u001b[49m\u001b[38;5;28;43;01mFalse\u001b[39;49;00m\u001b[43m)\u001b[49m\u001b[43m,\u001b[49m\n\u001b[0;32m   1741\u001b[0m \u001b[43m    \u001b[49m\u001b[43mis_text\u001b[49m\u001b[38;5;241;43m=\u001b[39;49m\u001b[43mis_text\u001b[49m\u001b[43m,\u001b[49m\n\u001b[0;32m   1742\u001b[0m \u001b[43m    \u001b[49m\u001b[43merrors\u001b[49m\u001b[38;5;241;43m=\u001b[39;49m\u001b[38;5;28;43mself\u001b[39;49m\u001b[38;5;241;43m.\u001b[39;49m\u001b[43moptions\u001b[49m\u001b[38;5;241;43m.\u001b[39;49m\u001b[43mget\u001b[49m\u001b[43m(\u001b[49m\u001b[38;5;124;43m\"\u001b[39;49m\u001b[38;5;124;43mencoding_errors\u001b[39;49m\u001b[38;5;124;43m\"\u001b[39;49m\u001b[43m,\u001b[49m\u001b[43m \u001b[49m\u001b[38;5;124;43m\"\u001b[39;49m\u001b[38;5;124;43mstrict\u001b[39;49m\u001b[38;5;124;43m\"\u001b[39;49m\u001b[43m)\u001b[49m\u001b[43m,\u001b[49m\n\u001b[0;32m   1743\u001b[0m \u001b[43m    \u001b[49m\u001b[43mstorage_options\u001b[49m\u001b[38;5;241;43m=\u001b[39;49m\u001b[38;5;28;43mself\u001b[39;49m\u001b[38;5;241;43m.\u001b[39;49m\u001b[43moptions\u001b[49m\u001b[38;5;241;43m.\u001b[39;49m\u001b[43mget\u001b[49m\u001b[43m(\u001b[49m\u001b[38;5;124;43m\"\u001b[39;49m\u001b[38;5;124;43mstorage_options\u001b[39;49m\u001b[38;5;124;43m\"\u001b[39;49m\u001b[43m,\u001b[49m\u001b[43m \u001b[49m\u001b[38;5;28;43;01mNone\u001b[39;49;00m\u001b[43m)\u001b[49m\u001b[43m,\u001b[49m\n\u001b[0;32m   1744\u001b[0m \u001b[43m\u001b[49m\u001b[43m)\u001b[49m\n\u001b[0;32m   1745\u001b[0m \u001b[38;5;28;01massert\u001b[39;00m \u001b[38;5;28mself\u001b[39m\u001b[38;5;241m.\u001b[39mhandles \u001b[38;5;129;01mis\u001b[39;00m \u001b[38;5;129;01mnot\u001b[39;00m \u001b[38;5;28;01mNone\u001b[39;00m\n\u001b[0;32m   1746\u001b[0m f \u001b[38;5;241m=\u001b[39m \u001b[38;5;28mself\u001b[39m\u001b[38;5;241m.\u001b[39mhandles\u001b[38;5;241m.\u001b[39mhandle\n",
      "File \u001b[1;32m~\\AppData\\Local\\anaconda3\\lib\\site-packages\\pandas\\io\\common.py:856\u001b[0m, in \u001b[0;36mget_handle\u001b[1;34m(path_or_buf, mode, encoding, compression, memory_map, is_text, errors, storage_options)\u001b[0m\n\u001b[0;32m    851\u001b[0m \u001b[38;5;28;01melif\u001b[39;00m \u001b[38;5;28misinstance\u001b[39m(handle, \u001b[38;5;28mstr\u001b[39m):\n\u001b[0;32m    852\u001b[0m     \u001b[38;5;66;03m# Check whether the filename is to be opened in binary mode.\u001b[39;00m\n\u001b[0;32m    853\u001b[0m     \u001b[38;5;66;03m# Binary mode does not support 'encoding' and 'newline'.\u001b[39;00m\n\u001b[0;32m    854\u001b[0m     \u001b[38;5;28;01mif\u001b[39;00m ioargs\u001b[38;5;241m.\u001b[39mencoding \u001b[38;5;129;01mand\u001b[39;00m \u001b[38;5;124m\"\u001b[39m\u001b[38;5;124mb\u001b[39m\u001b[38;5;124m\"\u001b[39m \u001b[38;5;129;01mnot\u001b[39;00m \u001b[38;5;129;01min\u001b[39;00m ioargs\u001b[38;5;241m.\u001b[39mmode:\n\u001b[0;32m    855\u001b[0m         \u001b[38;5;66;03m# Encoding\u001b[39;00m\n\u001b[1;32m--> 856\u001b[0m         handle \u001b[38;5;241m=\u001b[39m \u001b[38;5;28;43mopen\u001b[39;49m\u001b[43m(\u001b[49m\n\u001b[0;32m    857\u001b[0m \u001b[43m            \u001b[49m\u001b[43mhandle\u001b[49m\u001b[43m,\u001b[49m\n\u001b[0;32m    858\u001b[0m \u001b[43m            \u001b[49m\u001b[43mioargs\u001b[49m\u001b[38;5;241;43m.\u001b[39;49m\u001b[43mmode\u001b[49m\u001b[43m,\u001b[49m\n\u001b[0;32m    859\u001b[0m \u001b[43m            \u001b[49m\u001b[43mencoding\u001b[49m\u001b[38;5;241;43m=\u001b[39;49m\u001b[43mioargs\u001b[49m\u001b[38;5;241;43m.\u001b[39;49m\u001b[43mencoding\u001b[49m\u001b[43m,\u001b[49m\n\u001b[0;32m    860\u001b[0m \u001b[43m            \u001b[49m\u001b[43merrors\u001b[49m\u001b[38;5;241;43m=\u001b[39;49m\u001b[43merrors\u001b[49m\u001b[43m,\u001b[49m\n\u001b[0;32m    861\u001b[0m \u001b[43m            \u001b[49m\u001b[43mnewline\u001b[49m\u001b[38;5;241;43m=\u001b[39;49m\u001b[38;5;124;43m\"\u001b[39;49m\u001b[38;5;124;43m\"\u001b[39;49m\u001b[43m,\u001b[49m\n\u001b[0;32m    862\u001b[0m \u001b[43m        \u001b[49m\u001b[43m)\u001b[49m\n\u001b[0;32m    863\u001b[0m     \u001b[38;5;28;01melse\u001b[39;00m:\n\u001b[0;32m    864\u001b[0m         \u001b[38;5;66;03m# Binary mode\u001b[39;00m\n\u001b[0;32m    865\u001b[0m         handle \u001b[38;5;241m=\u001b[39m \u001b[38;5;28mopen\u001b[39m(handle, ioargs\u001b[38;5;241m.\u001b[39mmode)\n",
      "\u001b[1;31mFileNotFoundError\u001b[0m: [Errno 2] No such file or directory: 'C:\\\\Users\\\\ilkele4s\\\\LSTM_data.csv'"
     ]
    }
   ],
   "source": [
    "# load the data (samples only)\n",
    "data_samples = pd.read_csv(data, header = None)"
   ]
  },
  {
   "cell_type": "code",
   "execution_count": 11,
   "id": "fccb8d9a-c2f1-42ad-8dd1-ca7943d4ac9f",
   "metadata": {
    "tags": []
   },
   "outputs": [],
   "source": [
    "# structure samples for LSTM\n",
    "\n",
    "data_array = np.array(data_samples)\n",
    "\n",
    "n_samples = data_array.shape[0]\n",
    "n_features = data_array.shape[1]\n",
    "\n",
    "bin_cur = 1\n",
    "bin_past = 3\n",
    "\n",
    "bins_predict = bin_cur + bin_past # 3 previous + 1 current\n",
    "\n",
    "formatted_data = np.zeros([n_samples,bins_predict,n_features])\n",
    "\n",
    "start_idx=0\n",
    "for i in range(n_samples-bin_past):\n",
    "    end_idx=start_idx+bins_predict\n",
    "    formatted_data[i+bin_past,:,:]=data_array[start_idx:end_idx,:]\n",
    "    start_idx=start_idx+1"
   ]
  },
  {
   "cell_type": "code",
   "execution_count": 12,
   "id": "1785ad7a-9031-4bed-a76c-4324447d1384",
   "metadata": {
    "tags": []
   },
   "outputs": [],
   "source": [
    "# create a label set\n",
    "\n",
    "n_zones = 45\n",
    "n_trials = 32\n",
    "\n",
    "\n",
    "cat_zones = keras.utils.to_categorical(np.r_[1:n_zones+1] ,num_classes=46)\n",
    "cat_zones = np.delete(cat_zones,0,1)\n",
    "labels_all_trials = np.tile(cat_zones, 32)\n",
    "\n",
    "reshaped_labels_all_trials = np.reshape(labels_all_trials, [1440,45])\n",
    "\n"
   ]
  },
  {
   "cell_type": "code",
   "execution_count": 13,
   "id": "de252369-3a0a-42c7-9c73-5ac52cccdae7",
   "metadata": {
    "tags": []
   },
   "outputs": [],
   "source": [
    "# test - validation - train split (20/20/60)\n",
    "\n",
    "all_ind = np.random.choice(np.arange(0, n_samples, 1), n_samples) # replace=True\n",
    "\n",
    "test_ind = all_ind[:int(n_samples/5)] # 20\n",
    "\n",
    "validation_ind = all_ind[int(n_samples/5):int(n_samples/5+n_samples/5)] # 20 \n",
    "\n",
    "train_ind = all_ind[int(n_samples/5+n_samples/5):] # 60\n"
   ]
  },
  {
   "cell_type": "code",
   "execution_count": 14,
   "id": "0b0aae71-d5c0-4f8c-89ff-2cc01041a436",
   "metadata": {},
   "outputs": [
    {
     "data": {
      "text/plain": [
       "(1440,)"
      ]
     },
     "execution_count": 14,
     "metadata": {},
     "output_type": "execute_result"
    }
   ],
   "source": [
    "np.shape(all_ind)"
   ]
  },
  {
   "cell_type": "code",
   "execution_count": 15,
   "id": "879bcef9-655a-4334-9999-2daf01cf4e4a",
   "metadata": {},
   "outputs": [
    {
     "data": {
      "text/plain": [
       "(1440,)"
      ]
     },
     "execution_count": 15,
     "metadata": {},
     "output_type": "execute_result"
    }
   ],
   "source": [
    "np.shape(np.unique(all_ind))"
   ]
  },
  {
   "cell_type": "code",
   "execution_count": 19,
   "id": "fca3433b-5dff-4c1d-8cf9-af2ea7f410ed",
   "metadata": {
    "tags": []
   },
   "outputs": [
    {
     "name": "stdout",
     "output_type": "stream",
     "text": [
      "(288,)\n",
      "(288,)\n",
      "(864,)\n"
     ]
    }
   ],
   "source": [
    "print(np.shape(test_ind))\n",
    "print(np.shape(validation_ind))\n",
    "print(np.shape(train_ind))"
   ]
  },
  {
   "cell_type": "code",
   "execution_count": 20,
   "id": "17cf4cee-fb77-4c25-9fa1-e84260182aaf",
   "metadata": {
    "tags": []
   },
   "outputs": [],
   "source": [
    "test_samples = formatted_data[test_ind,:,:]\n",
    "test_labels = reshaped_labels_all_trials[test_ind,:]\n",
    "\n",
    "train_samples = formatted_data[train_ind,:,:]\n",
    "train_labels = reshaped_labels_all_trials[train_ind,:]\n",
    "\n",
    "validation_samples = formatted_data[validation_ind,:,:]\n",
    "validation_labels = reshaped_labels_all_trials[validation_ind,:]"
   ]
  },
  {
   "cell_type": "code",
   "execution_count": 21,
   "id": "7ac7d484-beed-4f28-928a-22bd4eefca49",
   "metadata": {
    "tags": []
   },
   "outputs": [],
   "source": [
    "train_samples[np.isnan(train_samples)] = 0\n",
    "test_samples[np.isnan(test_samples)] = 0\n",
    "validation_samples[np.isnan(validation_samples)] = 0"
   ]
  },
  {
   "cell_type": "code",
   "execution_count": 22,
   "id": "b18153e1-1032-4927-aba1-dc6cfc47b82e",
   "metadata": {
    "tags": []
   },
   "outputs": [
    {
     "name": "stdout",
     "output_type": "stream",
     "text": [
      "(288, 4, 17400)\n",
      "(864, 4, 17400)\n",
      "(288, 4, 17400)\n",
      "(288, 45)\n",
      "(864, 45)\n",
      "(288, 45)\n"
     ]
    }
   ],
   "source": [
    "print(np.shape(test_samples))\n",
    "print(np.shape(train_samples))\n",
    "print(np.shape(validation_samples))\n",
    "\n",
    "print(np.shape(test_labels))\n",
    "print(np.shape(train_labels))\n",
    "print(np.shape(validation_labels))"
   ]
  },
  {
   "cell_type": "code",
   "execution_count": 19,
   "id": "ed8dafff-5413-49ac-bbec-297ca7537073",
   "metadata": {},
   "outputs": [
    {
     "data": {
      "text/plain": [
       "['C:\\\\Users\\\\ilkele4s\\\\New_LSTM_comp_results\\\\validation_labels.sav']"
      ]
     },
     "execution_count": 19,
     "metadata": {},
     "output_type": "execute_result"
    }
   ],
   "source": [
    "joblib.dump(train_samples, os.path.join(NewDirectory,'train_samples.sav'))\n",
    "joblib.dump(train_labels, os.path.join(NewDirectory,'train_labels.sav'))\n",
    "\n",
    "joblib.dump(test_samples, os.path.join(NewDirectory,'test_samples.sav'))\n",
    "joblib.dump(test_labels, os.path.join(NewDirectory,'test_labels.sav'))\n",
    "\n",
    "joblib.dump(validation_samples, os.path.join(NewDirectory,'validation_samples.sav'))\n",
    "joblib.dump(validation_labels, os.path.join(NewDirectory,'validation_labels.sav'))"
   ]
  },
  {
   "cell_type": "code",
   "execution_count": 23,
   "id": "b003312a-70f6-4bcd-b865-cc8eef9bd42e",
   "metadata": {
    "tags": []
   },
   "outputs": [],
   "source": [
    "class MyHyperModel(kt.HyperModel):\n",
    "\n",
    "    def build(self,hp):\n",
    "        \n",
    "            LSTM_units = [30, 40, 50]\n",
    "            Drop_rate = [.20, .30, .40]\n",
    "            RecDrop_rate = [.20, .30, .40]\n",
    "            learning_rate = hp.Float(\"lr\", min_value=1e-4, max_value=1e-2, sampling=\"log\")\n",
    "\n",
    "            model=Sequential()\n",
    "            model.add(Masking(mask_value=0, input_shape=(4, 17400))),\n",
    "            model.add(LSTM(hp.Choice('LSTM_units',LSTM_units),                \n",
    "                           input_shape=(4, 17400), \n",
    "                           dropout=hp.Choice('Drop_rate',Drop_rate),\n",
    "                           recurrent_dropout=hp.Choice('RecDrop_rate', RecDrop_rate)))\n",
    "\n",
    "            model.add(Dense(45, activation='softmax'))\n",
    "            model.compile(loss='categorical_crossentropy',optimizer=keras.optimizers.Adam(learning_rate=learning_rate),metrics=['accuracy'])\n",
    "\n",
    "            return model \n",
    "        \n",
    "    def fit(self, hp, model, *args, **kwargs):\n",
    "        return model.fit(\n",
    "            *args,\n",
    "            # Tune whether to shuffle the data in each epoch.\n",
    "            shuffle=hp.Boolean(\"shuffle\"),\n",
    "            **kwargs,\n",
    "        )\n",
    "\n",
    "\n"
   ]
  },
  {
   "cell_type": "code",
   "execution_count": 24,
   "id": "a68e49eb-60e7-48c8-8faa-e9091206c64f",
   "metadata": {
    "tags": []
   },
   "outputs": [],
   "source": [
    "#tuner = kt.GridSearch(\n",
    "#    MyHyperModel(),\n",
    "#    objective =kt.Objective(\"val_loss\", direction=\"min\"),\n",
    "#    overwrite=True,\n",
    "#    directory=NewDirectory ,\n",
    "#    project_name=\"tune_hypermodel\",\n",
    "#)\n",
    "\n"
   ]
  },
  {
   "cell_type": "code",
   "execution_count": 25,
   "id": "9c9b6561-76c8-4827-a11f-1407be09e651",
   "metadata": {},
   "outputs": [],
   "source": [
    "tuner = kt.RandomSearch(\n",
    "    MyHyperModel(),\n",
    "    objective =kt.Objective(\"val_loss\", direction=\"min\"),\n",
    "    overwrite=True,\n",
    "    max_trials=30,\n",
    "    directory= NewDirectory ,\n",
    "    project_name=\"tune_hypermodel_random\",\n",
    ")\n"
   ]
  },
  {
   "cell_type": "code",
   "execution_count": 26,
   "id": "7919f345-0d02-41ea-8e79-bae2e597ef8a",
   "metadata": {
    "tags": []
   },
   "outputs": [
    {
     "name": "stdout",
     "output_type": "stream",
     "text": [
      "Search space summary\n",
      "Default search space size: 4\n",
      "lr (Float)\n",
      "{'default': 0.0001, 'conditions': [], 'min_value': 0.0001, 'max_value': 0.01, 'step': None, 'sampling': 'log'}\n",
      "LSTM_units (Choice)\n",
      "{'default': 30, 'conditions': [], 'values': [30, 40, 50], 'ordered': True}\n",
      "Drop_rate (Choice)\n",
      "{'default': 0.2, 'conditions': [], 'values': [0.2, 0.3, 0.4], 'ordered': True}\n",
      "RecDrop_rate (Choice)\n",
      "{'default': 0.2, 'conditions': [], 'values': [0.2, 0.3, 0.4], 'ordered': True}\n"
     ]
    }
   ],
   "source": [
    "tuner.search_space_summary()"
   ]
  },
  {
   "cell_type": "code",
   "execution_count": 27,
   "id": "cfb55728-ed59-479c-a664-500a3c3f065c",
   "metadata": {
    "tags": []
   },
   "outputs": [
    {
     "name": "stdout",
     "output_type": "stream",
     "text": [
      "Trial 30 Complete [00h 02m 03s]\n",
      "val_loss: 1.5170698165893555\n",
      "\n",
      "Best val_loss So Far: 0.8130357265472412\n",
      "Total elapsed time: 01h 03m 28s\n",
      "INFO:tensorflow:Oracle triggered exit\n"
     ]
    }
   ],
   "source": [
    "tuner.search(train_samples, train_labels, epochs=20, validation_data=(validation_samples, validation_labels))"
   ]
  },
  {
   "cell_type": "code",
   "execution_count": 28,
   "id": "e9580329-8c28-4be2-a863-7d7a43ef1f1c",
   "metadata": {
    "tags": []
   },
   "outputs": [
    {
     "name": "stdout",
     "output_type": "stream",
     "text": [
      "Results summary\n",
      "Results in C:\\Users\\ilkele4s\\New_LSTM_comp_results\\tune_hypermodel_random\n",
      "Showing 3 best trials\n",
      "Objective(name=\"val_loss\", direction=\"min\")\n",
      "\n",
      "Trial 11 summary\n",
      "Hyperparameters:\n",
      "lr: 0.0007425894066139745\n",
      "LSTM_units: 50\n",
      "Drop_rate: 0.3\n",
      "RecDrop_rate: 0.4\n",
      "shuffle: False\n",
      "Score: 0.8130357265472412\n",
      "\n",
      "Trial 28 summary\n",
      "Hyperparameters:\n",
      "lr: 0.0007352872452552378\n",
      "LSTM_units: 40\n",
      "Drop_rate: 0.2\n",
      "RecDrop_rate: 0.4\n",
      "shuffle: False\n",
      "Score: 0.8525015115737915\n",
      "\n",
      "Trial 00 summary\n",
      "Hyperparameters:\n",
      "lr: 0.001726082464062503\n",
      "LSTM_units: 50\n",
      "Drop_rate: 0.3\n",
      "RecDrop_rate: 0.4\n",
      "shuffle: False\n",
      "Score: 0.9577274322509766\n"
     ]
    }
   ],
   "source": [
    "tuner.results_summary(num_trials=3)\n"
   ]
  },
  {
   "cell_type": "code",
   "execution_count": null,
   "id": "75d1bf2e-2a43-463c-8277-fbf89b1cd8d7",
   "metadata": {},
   "outputs": [],
   "source": [
    "# Capture the printed output using io.StringIO\n",
    "summary_output = io.StringIO()\n",
    "\n",
    "# Use contextlib.redirect_stdout to redirect the print output to the StringIO object\n",
    "with contextlib.redirect_stdout(summary_output):\n",
    "    tuner.results_summary(num_trials=3)\n",
    "\n",
    "# Get the captured output\n",
    "summary_text = summary_output.getvalue()\n"
   ]
  },
  {
   "cell_type": "code",
   "execution_count": null,
   "id": "30403495-7ab9-4c33-9ff2-8c63b37386b8",
   "metadata": {},
   "outputs": [],
   "source": [
    "file = open(os.path.join(NewDirectory,'best_3params.txt'), 'w')\n",
    "# Write content to the file\n",
    "file.write(summary_text)"
   ]
  },
  {
   "cell_type": "code",
   "execution_count": 29,
   "id": "2eaf06e8-d83a-41ec-8ba8-d88cd69aaf2d",
   "metadata": {},
   "outputs": [],
   "source": [
    "best_hyperparameters = tuner.get_best_hyperparameters()"
   ]
  },
  {
   "cell_type": "code",
   "execution_count": null,
   "id": "739074cd-5771-46f2-b089-cdcdac39e1a6",
   "metadata": {
    "tags": []
   },
   "outputs": [],
   "source": [
    "def build_model(hp):\n",
    "    model_opt=Sequential()\n",
    "    model_opt.add(Masking(mask_value=0, input_shape=(4, n_features)))\n",
    "    model_opt.add(LSTM(50,input_shape=(4, n_features),dropout=.30,recurrent_dropout=.40))\n",
    "    model_opt.add(Dense(45, activation='softmax'))\n",
    "\n",
    "    model_opt.compile(optimizer='adam', loss='categorical_crossentropy', metrics=['accuracy'])\n",
    "\n",
    "    return model_opt\n"
   ]
  },
  {
   "cell_type": "code",
   "execution_count": 33,
   "id": "d5e18306-8b0d-495b-9f4c-e56d98949a81",
   "metadata": {
    "tags": []
   },
   "outputs": [],
   "source": [
    "best_model = build_model(best_hyperparameters)"
   ]
  },
  {
   "cell_type": "code",
   "execution_count": 31,
   "id": "24f1523a-9348-4c31-9009-748979954ee8",
   "metadata": {},
   "outputs": [
    {
     "name": "stdout",
     "output_type": "stream",
     "text": [
      "File 'C:\\Users\\ilkele4s\\New_LSTM_comp_results\\tune_hypermodel_random\\trial_00' deleted successfully.\n",
      "File 'C:\\Users\\ilkele4s\\New_LSTM_comp_results\\tune_hypermodel_random\\trial_01' deleted successfully.\n",
      "File 'C:\\Users\\ilkele4s\\New_LSTM_comp_results\\tune_hypermodel_random\\trial_02' deleted successfully.\n",
      "File 'C:\\Users\\ilkele4s\\New_LSTM_comp_results\\tune_hypermodel_random\\trial_03' deleted successfully.\n",
      "File 'C:\\Users\\ilkele4s\\New_LSTM_comp_results\\tune_hypermodel_random\\trial_04' deleted successfully.\n",
      "File 'C:\\Users\\ilkele4s\\New_LSTM_comp_results\\tune_hypermodel_random\\trial_05' deleted successfully.\n",
      "File 'C:\\Users\\ilkele4s\\New_LSTM_comp_results\\tune_hypermodel_random\\trial_06' deleted successfully.\n",
      "File 'C:\\Users\\ilkele4s\\New_LSTM_comp_results\\tune_hypermodel_random\\trial_07' deleted successfully.\n",
      "File 'C:\\Users\\ilkele4s\\New_LSTM_comp_results\\tune_hypermodel_random\\trial_08' deleted successfully.\n",
      "File 'C:\\Users\\ilkele4s\\New_LSTM_comp_results\\tune_hypermodel_random\\trial_09' deleted successfully.\n",
      "File 'C:\\Users\\ilkele4s\\New_LSTM_comp_results\\tune_hypermodel_random\\trial_10' deleted successfully.\n",
      "File 'C:\\Users\\ilkele4s\\New_LSTM_comp_results\\tune_hypermodel_random\\trial_11' deleted successfully.\n",
      "File 'C:\\Users\\ilkele4s\\New_LSTM_comp_results\\tune_hypermodel_random\\trial_12' deleted successfully.\n",
      "File 'C:\\Users\\ilkele4s\\New_LSTM_comp_results\\tune_hypermodel_random\\trial_13' deleted successfully.\n",
      "File 'C:\\Users\\ilkele4s\\New_LSTM_comp_results\\tune_hypermodel_random\\trial_14' deleted successfully.\n",
      "File 'C:\\Users\\ilkele4s\\New_LSTM_comp_results\\tune_hypermodel_random\\trial_15' deleted successfully.\n",
      "File 'C:\\Users\\ilkele4s\\New_LSTM_comp_results\\tune_hypermodel_random\\trial_16' deleted successfully.\n",
      "File 'C:\\Users\\ilkele4s\\New_LSTM_comp_results\\tune_hypermodel_random\\trial_17' deleted successfully.\n",
      "File 'C:\\Users\\ilkele4s\\New_LSTM_comp_results\\tune_hypermodel_random\\trial_18' deleted successfully.\n",
      "File 'C:\\Users\\ilkele4s\\New_LSTM_comp_results\\tune_hypermodel_random\\trial_19' deleted successfully.\n",
      "File 'C:\\Users\\ilkele4s\\New_LSTM_comp_results\\tune_hypermodel_random\\trial_20' deleted successfully.\n",
      "File 'C:\\Users\\ilkele4s\\New_LSTM_comp_results\\tune_hypermodel_random\\trial_21' deleted successfully.\n",
      "File 'C:\\Users\\ilkele4s\\New_LSTM_comp_results\\tune_hypermodel_random\\trial_22' deleted successfully.\n",
      "File 'C:\\Users\\ilkele4s\\New_LSTM_comp_results\\tune_hypermodel_random\\trial_23' deleted successfully.\n",
      "File 'C:\\Users\\ilkele4s\\New_LSTM_comp_results\\tune_hypermodel_random\\trial_24' deleted successfully.\n",
      "File 'C:\\Users\\ilkele4s\\New_LSTM_comp_results\\tune_hypermodel_random\\trial_25' deleted successfully.\n",
      "File 'C:\\Users\\ilkele4s\\New_LSTM_comp_results\\tune_hypermodel_random\\trial_26' deleted successfully.\n",
      "File 'C:\\Users\\ilkele4s\\New_LSTM_comp_results\\tune_hypermodel_random\\trial_27' deleted successfully.\n",
      "File 'C:\\Users\\ilkele4s\\New_LSTM_comp_results\\tune_hypermodel_random\\trial_28' deleted successfully.\n",
      "File 'C:\\Users\\ilkele4s\\New_LSTM_comp_results\\tune_hypermodel_random\\trial_29' deleted successfully.\n"
     ]
    }
   ],
   "source": [
    "directory_path = os.path.join(NewDirectory,'tune_hypermodel_random')\n",
    "\n",
    "# Define a pattern to match files with names like \"trial1\", \"trial2\", etc.\n",
    "\n",
    "pattern = \"trial*\"\n",
    "\n",
    "# Use glob to find matching files\n",
    "matching_files = glob.glob(os.path.join(directory_path, pattern))\n",
    "\n",
    "# Iterate over matching files and delete them\n",
    "for file_path in matching_files:\n",
    "    try:\n",
    "        shutil.rmtree(file_path)\n",
    "        print(f\"File '{file_path}' deleted successfully.\")\n",
    "    except OSError as e:\n",
    "        print(f\"Error deleting '{file_path}': {e}\")"
   ]
  },
  {
   "cell_type": "code",
   "execution_count": null,
   "id": "2a194c94-4e93-445a-b937-92b79534b40a",
   "metadata": {
    "tags": []
   },
   "outputs": [
    {
     "name": "stdout",
     "output_type": "stream",
     "text": [
      "Epoch 1/30\n",
      "27/27 [==============================] - 9s 244ms/step - loss: 3.6229 - accuracy: 0.1505 - val_loss: 3.3324 - val_accuracy: 0.2882\n",
      "Epoch 2/30\n",
      "27/27 [==============================] - 6s 240ms/step - loss: 2.6479 - accuracy: 0.6435 - val_loss: 2.8221 - val_accuracy: 0.5069\n",
      "Epoch 3/30\n",
      "27/27 [==============================] - 7s 249ms/step - loss: 2.0087 - accuracy: 0.8148 - val_loss: 2.3937 - val_accuracy: 0.6875\n",
      "Epoch 4/30\n",
      "27/27 [==============================] - 7s 275ms/step - loss: 1.5521 - accuracy: 0.9016 - val_loss: 2.1002 - val_accuracy: 0.7465\n",
      "Epoch 5/30\n",
      "27/27 [==============================] - 7s 262ms/step - loss: 1.2098 - accuracy: 0.9352 - val_loss: 1.8404 - val_accuracy: 0.7986\n",
      "Epoch 6/30\n",
      "27/27 [==============================] - 8s 279ms/step - loss: 0.9759 - accuracy: 0.9421 - val_loss: 1.6619 - val_accuracy: 0.7917\n",
      "Epoch 7/30\n",
      "27/27 [==============================] - 7s 255ms/step - loss: 0.8087 - accuracy: 0.9525 - val_loss: 1.4917 - val_accuracy: 0.8438\n",
      "Epoch 8/30\n",
      "27/27 [==============================] - 7s 265ms/step - loss: 0.6808 - accuracy: 0.9606 - val_loss: 1.3735 - val_accuracy: 0.8368\n",
      "Epoch 9/30\n",
      "27/27 [==============================] - 7s 257ms/step - loss: 0.5850 - accuracy: 0.9606 - val_loss: 1.2696 - val_accuracy: 0.8611\n",
      "Epoch 10/30\n",
      "27/27 [==============================] - 7s 262ms/step - loss: 0.5083 - accuracy: 0.9630 - val_loss: 1.1960 - val_accuracy: 0.8646\n",
      "Epoch 11/30\n",
      "27/27 [==============================] - 7s 259ms/step - loss: 0.4509 - accuracy: 0.9606 - val_loss: 1.1145 - val_accuracy: 0.8750\n",
      "Epoch 12/30\n",
      "27/27 [==============================] - 7s 266ms/step - loss: 0.3973 - accuracy: 0.9630 - val_loss: 1.0564 - val_accuracy: 0.8750\n",
      "Epoch 13/30\n",
      "27/27 [==============================] - 7s 256ms/step - loss: 0.3656 - accuracy: 0.9664 - val_loss: 1.0266 - val_accuracy: 0.8646\n",
      "Epoch 14/30\n",
      "27/27 [==============================] - 7s 255ms/step - loss: 0.3322 - accuracy: 0.9653 - val_loss: 0.9622 - val_accuracy: 0.8854\n",
      "Epoch 15/30\n",
      "27/27 [==============================] - 7s 268ms/step - loss: 0.2993 - accuracy: 0.9688 - val_loss: 0.9355 - val_accuracy: 0.8715\n",
      "Epoch 16/30\n",
      "27/27 [==============================] - 7s 265ms/step - loss: 0.2804 - accuracy: 0.9688 - val_loss: 0.8975 - val_accuracy: 0.8854\n",
      "Epoch 17/30\n",
      "27/27 [==============================] - 7s 266ms/step - loss: 0.2639 - accuracy: 0.9676 - val_loss: 0.8842 - val_accuracy: 0.8785\n",
      "Epoch 18/30\n",
      "27/27 [==============================] - 7s 270ms/step - loss: 0.2488 - accuracy: 0.9699 - val_loss: 0.8588 - val_accuracy: 0.8889\n",
      "Epoch 19/30\n",
      "27/27 [==============================] - 7s 268ms/step - loss: 0.2392 - accuracy: 0.9664 - val_loss: 0.8428 - val_accuracy: 0.8889\n",
      "Epoch 20/30\n",
      "27/27 [==============================] - 7s 258ms/step - loss: 0.2272 - accuracy: 0.9688 - val_loss: 0.8283 - val_accuracy: 0.8889\n",
      "Epoch 21/30\n",
      " 9/27 [=========>....................] - ETA: 4s - loss: 0.2663 - accuracy: 0.9549"
     ]
    }
   ],
   "source": [
    "\n",
    "best_model_trained = best_model.fit(train_samples, train_labels,validation_data=(validation_samples, validation_labels),\n",
    "                      epochs = 30, verbose=1)"
   ]
  },
  {
   "cell_type": "code",
   "execution_count": null,
   "id": "296f069d-211b-486d-bd5a-2bd189971038",
   "metadata": {
    "tags": []
   },
   "outputs": [],
   "source": [
    "plt.plot(best_model_trained.history['loss'])\n",
    "plt.plot(best_model_trained.history['val_loss'])\n",
    "\n",
    "plt.legend(['train', 'validation'], loc='upper left')\n",
    "\n",
    "ay = plt.gca()\n",
    "\n",
    "ay.yaxis.set_major_locator(MultipleLocator(base=0.50)) \n",
    "\n",
    "\n",
    "plt.title('model loss')\n",
    "plt.ylabel('loss')\n",
    "plt.xlabel('epoch')\n",
    "\n",
    "plt.savefig(os.path.join(NewDirectory,'Model_loss.png'))\n",
    "plt.show()"
   ]
  },
  {
   "cell_type": "code",
   "execution_count": 29,
   "id": "98eb3cd5-3401-4def-86a9-771bdf0f255e",
   "metadata": {},
   "outputs": [
    {
     "ename": "NameError",
     "evalue": "name 'best_model_trained' is not defined",
     "output_type": "error",
     "traceback": [
      "\u001b[1;31m---------------------------------------------------------------------------\u001b[0m",
      "\u001b[1;31mNameError\u001b[0m                                 Traceback (most recent call last)",
      "Cell \u001b[1;32mIn[29], line 1\u001b[0m\n\u001b[1;32m----> 1\u001b[0m plt\u001b[38;5;241m.\u001b[39mplot(\u001b[43mbest_model_trained\u001b[49m\u001b[38;5;241m.\u001b[39mhistory[\u001b[38;5;124m'\u001b[39m\u001b[38;5;124maccuracy\u001b[39m\u001b[38;5;124m'\u001b[39m])\n\u001b[0;32m      2\u001b[0m plt\u001b[38;5;241m.\u001b[39mplot(best_model_trained\u001b[38;5;241m.\u001b[39mhistory[\u001b[38;5;124m'\u001b[39m\u001b[38;5;124mval_accuracy\u001b[39m\u001b[38;5;124m'\u001b[39m])\n\u001b[0;32m      5\u001b[0m ay \u001b[38;5;241m=\u001b[39m plt\u001b[38;5;241m.\u001b[39mgca()\n",
      "\u001b[1;31mNameError\u001b[0m: name 'best_model_trained' is not defined"
     ]
    }
   ],
   "source": [
    "plt.plot(best_model_trained.history['accuracy'])\n",
    "plt.plot(best_model_trained.history['val_accuracy'])\n",
    "\n",
    "\n",
    "ay = plt.gca()\n",
    "ay.yaxis.set_major_locator(MultipleLocator(base=0.10)) \n",
    "\n",
    "plt.legend(['train', 'validation'], loc='upper left')\n",
    "\n",
    "plt.title('Accuracy')\n",
    "plt.ylabel('accuracy')\n",
    "plt.xlabel('epoch')\n",
    "\n",
    "plt.savefig(os.path.join(NewDirectory,'Model_accuracy.png'))\n",
    "plt.show()"
   ]
  },
  {
   "cell_type": "code",
   "execution_count": null,
   "id": "1631637f-f8b2-4456-8d5e-dacb8002dac3",
   "metadata": {
    "tags": []
   },
   "outputs": [],
   "source": [
    "predictions = best_model.predict(test_samples)\n",
    "#%%\n",
    "predicted_labels = np.argmax(predictions, axis=1) + 1\n",
    "#%%\n",
    "true_label = np.argmax(test_labels, axis=1) + 1\n",
    "#%%\n"
   ]
  },
  {
   "cell_type": "code",
   "execution_count": null,
   "id": "3c8028dc-fa4c-4e24-8ce3-127b4d0bd798",
   "metadata": {
    "tags": []
   },
   "outputs": [],
   "source": [
    "#%%\n",
    "cm = confusion_matrix(true_label, predicted_labels, normalize='true')\n",
    "#%%\n",
    "class_labels = [str(i) for i in range(1, 46)]\n",
    "#%%\n",
    "plt.figure(figsize=(20, 16))\n",
    "sns.heatmap(cm, fmt='.2',annot=True, annot_kws={\"size\": 8}, xticklabels=class_labels, yticklabels=class_labels)\n",
    "plt.xlabel('Predicted Labels')\n",
    "plt.ylabel('True Labels')\n",
    "plt.title('Confusion Matrix')\n",
    "\n",
    "plt.savefig(os.path.join(NewDirectory,'Cm_optim.png'))\n",
    "plt.show()"
   ]
  },
  {
   "cell_type": "code",
   "execution_count": null,
   "id": "2fc7f184-2be2-4361-b2a0-68a035d490a4",
   "metadata": {
    "tags": []
   },
   "outputs": [],
   "source": [
    "from sklearn.metrics import classification_report\n",
    "print(classification_report(true_label, predicted_labels))"
   ]
  },
  {
   "cell_type": "code",
   "execution_count": null,
   "id": "97dec7a5-a511-4663-aa89-e1abfe76ef01",
   "metadata": {
    "tags": []
   },
   "outputs": [],
   "source": []
  },
  {
   "cell_type": "code",
   "execution_count": null,
   "id": "43be0cc1-f582-4281-a947-cdc0ac597504",
   "metadata": {
    "tags": []
   },
   "outputs": [],
   "source": []
  }
 ],
 "metadata": {
  "kernelspec": {
   "display_name": "Python 3 (ipykernel)",
   "language": "python",
   "name": "python3"
  },
  "language_info": {
   "codemirror_mode": {
    "name": "ipython",
    "version": 3
   },
   "file_extension": ".py",
   "mimetype": "text/x-python",
   "name": "python",
   "nbconvert_exporter": "python",
   "pygments_lexer": "ipython3",
   "version": "3.10.9"
  }
 },
 "nbformat": 4,
 "nbformat_minor": 5
}
